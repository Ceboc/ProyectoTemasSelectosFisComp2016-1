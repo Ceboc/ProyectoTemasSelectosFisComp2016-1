{
 "cells": [
  {
   "cell_type": "markdown",
   "metadata": {},
   "source": [
    "# Simulación del tráfico en un carril."
   ]
  },
  {
   "cell_type": "markdown",
   "metadata": {},
   "source": [
    "Primero se simulará para dos carros. La ecuación que simulará la velocidad de los vehículos es el mínimo entre\n",
    "\n",
    "$$\\dot{x_i} = \\frac{1}{T_i}(x_{i-1}-x_i -\\frac{l_i + l_{i-1}}{2}) \n",
    "$$ \n",
    "\n",
    "y\n",
    "\n",
    "$$ \\dot{x_i} = v_{max_{i}} $$"
   ]
  },
  {
   "cell_type": "code",
   "execution_count": 1,
   "metadata": {
    "collapsed": false
   },
   "outputs": [
    {
     "name": "stderr",
     "output_type": "stream",
     "text": [
      "WARNING: Union(args...) is deprecated, use Union{args...} instead.\n",
      " in depwarn at deprecated.jl:73\n",
      " in call at deprecated.jl:50\n",
      " [inlined code] from /home/csar/.julia/v0.4/TaylorSeries/src/Taylor1.jl:127\n",
      " in anonymous at no file:0\n",
      " in include at ./boot.jl:261\n",
      " in include_from_node1 at ./loading.jl:304\n",
      " in include at ./boot.jl:261\n",
      " in include_from_node1 at ./loading.jl:304\n",
      " in require at ./loading.jl:243\n",
      " in include_string at loading.jl:266\n",
      " in execute_request_0x535c5df2 at /home/csar/.julia/v0.4/IJulia/src/execute_request.jl:177\n",
      " in eventloop at /home/csar/.julia/v0.4/IJulia/src/IJulia.jl:141\n",
      " in anonymous at task.jl:447\n",
      "while loading /home/csar/.julia/v0.4/TaylorSeries/src/Taylor1.jl, in expression starting on line 143\n",
      "WARNING: Union(args...) is deprecated, use Union{args...} instead.\n",
      " in depwarn at deprecated.jl:73\n",
      " in call at deprecated.jl:50\n",
      " [inlined code] from /home/csar/.julia/v0.4/TaylorSeries/src/Taylor1.jl:127\n",
      " in anonymous at no file:0\n",
      " in include at ./boot.jl:261\n",
      " in include_from_node1 at ./loading.jl:304\n",
      " in include at ./boot.jl:261\n",
      " in include_from_node1 at ./loading.jl:304\n",
      " in require at ./loading.jl:243\n",
      " in include_string at loading.jl:266\n",
      " in execute_request_0x535c5df2 at /home/csar/.julia/v0.4/IJulia/src/execute_request.jl:177\n",
      " in eventloop at /home/csar/.julia/v0.4/IJulia/src/IJulia.jl:141\n",
      " in anonymous at task.jl:447\n",
      "while loading /home/csar/.julia/v0.4/TaylorSeries/src/Taylor1.jl, in expression starting on line 152\n",
      "WARNING: Union(args...) is deprecated, use Union{args...} instead.\n",
      " in depwarn at deprecated.jl:73\n",
      " in call at deprecated.jl:50\n",
      " [inlined code] from /home/csar/.julia/v0.4/TaylorSeries/src/Taylor1.jl:127\n",
      " in anonymous at no file:0\n",
      " in include at ./boot.jl:261\n",
      " in include_from_node1 at ./loading.jl:304\n",
      " in include at ./boot.jl:261\n",
      " in include_from_node1 at ./loading.jl:304\n",
      " in require at ./loading.jl:243\n",
      " in include_string at loading.jl:266\n",
      " in execute_request_0x535c5df2 at /home/csar/.julia/v0.4/IJulia/src/execute_request.jl:177\n",
      " in eventloop at /home/csar/.julia/v0.4/IJulia/src/IJulia.jl:141\n",
      " in anonymous at task.jl:447\n",
      "while loading /home/csar/.julia/v0.4/TaylorSeries/src/Taylor1.jl, in expression starting on line 143\n",
      "WARNING: Union(args...) is deprecated, use Union{args...} instead.\n",
      " in depwarn at deprecated.jl:73\n",
      " in call at deprecated.jl:50\n",
      " [inlined code] from /home/csar/.julia/v0.4/TaylorSeries/src/Taylor1.jl:127\n",
      " in anonymous at no file:0\n",
      " in include at ./boot.jl:261\n",
      " in include_from_node1 at ./loading.jl:304\n",
      " in include at ./boot.jl:261\n",
      " in include_from_node1 at ./loading.jl:304\n",
      " in require at ./loading.jl:243\n",
      " in include_string at loading.jl:266\n",
      " in execute_request_0x535c5df2 at /home/csar/.julia/v0.4/IJulia/src/execute_request.jl:177\n",
      " in eventloop at /home/csar/.julia/v0.4/IJulia/src/IJulia.jl:141\n",
      " in anonymous at task.jl:447\n",
      "while loading /home/csar/.julia/v0.4/TaylorSeries/src/Taylor1.jl, in expression starting on line 152\n",
      "WARNING: Union(args...) is deprecated, use Union{args...} instead.\n",
      " in depwarn at deprecated.jl:73\n",
      " in call at deprecated.jl:50\n",
      " in include at ./boot.jl:261\n",
      " in include_from_node1 at ./loading.jl:304\n",
      " in include at ./boot.jl:261\n",
      " in include_from_node1 at ./loading.jl:304\n",
      " in require at ./loading.jl:243\n",
      " in include_string at loading.jl:266\n",
      " in execute_request_0x535c5df2 at /home/csar/.julia/v0.4/IJulia/src/execute_request.jl:177\n",
      " in eventloop at /home/csar/.julia/v0.4/IJulia/src/IJulia.jl:141\n",
      " in anonymous at task.jl:447\n",
      "while loading /home/csar/.julia/v0.4/TaylorSeries/src/Taylor1.jl, in expression starting on line 167\n",
      "WARNING: Union(args...) is deprecated, use Union{args...} instead.\n",
      " in depwarn at deprecated.jl:73\n",
      " in call at deprecated.jl:50\n",
      " in include at ./boot.jl:261\n",
      " in include_from_node1 at ./loading.jl:304\n",
      " in include at ./boot.jl:261\n",
      " in include_from_node1 at ./loading.jl:304\n",
      " in require at ./loading.jl:243\n",
      " in include_string at loading.jl:266\n",
      " in execute_request_0x535c5df2 at /home/csar/.julia/v0.4/IJulia/src/execute_request.jl:177\n",
      " in eventloop at /home/csar/.julia/v0.4/IJulia/src/IJulia.jl:141\n",
      " in anonymous at task.jl:447\n",
      "while loading /home/csar/.julia/v0.4/TaylorSeries/src/Taylor1.jl, in expression starting on line 175\n",
      "WARNING: Base.String is deprecated, use AbstractString instead.\n",
      "  likely near /home/csar/.julia/v0.4/TaylorSeries/src/parameters.jl:42\n",
      "WARNING: Base.String is deprecated, use AbstractString instead.\n",
      "  likely near /home/csar/.julia/v0.4/TaylorSeries/src/parameters.jl:47\n",
      "WARNING: Base.String is deprecated, use AbstractString instead.\n",
      "  likely near /home/csar/.julia/v0.4/TaylorSeries/src/parameters.jl:47\n",
      "WARNING: Base.String is deprecated, use AbstractString instead.\n",
      "  likely near /home/csar/.julia/v0.4/TaylorSeries/src/parameters.jl:47\n",
      "WARNING: Base.String is deprecated, use AbstractString instead.\n",
      "  likely near /home/csar/.julia/v0.4/TaylorSeries/src/parameters.jl:434\n",
      "WARNING: Base.String is deprecated, use AbstractString instead.\n",
      "  likely near /home/csar/.julia/v0.4/TaylorSeries/src/parameters.jl:78\n",
      "WARNING: Base.String is deprecated, use AbstractString instead.\n",
      "  likely near /home/csar/.julia/v0.4/TaylorSeries/src/parameters.jl:78\n",
      "WARNING: Base.String is deprecated, use AbstractString instead.\n",
      "  likely near /home/csar/.julia/v0.4/TaylorSeries/src/parameters.jl:78\n",
      "WARNING: Base.String is deprecated, use AbstractString instead.\n",
      "  likely near /home/csar/.julia/v0.4/TaylorSeries/src/parameters.jl:89\n",
      "WARNING: Base.String is deprecated, use AbstractString instead.\n",
      "  likely near /home/csar/.julia/v0.4/TaylorSeries/src/parameters.jl:89\n",
      "WARNING: Base.String is deprecated, use AbstractString instead.\n",
      "  likely near /home/csar/.julia/v0.4/TaylorSeries/src/parameters.jl:89\n",
      "WARNING: Union(args...) is deprecated, use Union{args...} instead.\n",
      " in depwarn at deprecated.jl:73\n",
      " in call at deprecated.jl:50\n",
      " in include at ./boot.jl:261\n",
      " in include_from_node1 at ./loading.jl:304\n",
      " in include at ./boot.jl:261\n",
      " in include_from_node1 at ./loading.jl:304\n",
      " in require at ./loading.jl:243\n",
      " in include_string at loading.jl:266\n",
      " in execute_request_0x535c5df2 at /home/csar/.julia/v0.4/IJulia/src/execute_request.jl:177\n",
      " in eventloop at /home/csar/.julia/v0.4/IJulia/src/IJulia.jl:141\n",
      " in anonymous at task.jl:447\n",
      "while loading /home/csar/.julia/v0.4/TaylorSeries/src/TaylorN.jl, in expression starting on line 129\n",
      "WARNING: Union(args...) is deprecated, use Union{args...} instead.\n",
      " in depwarn at deprecated.jl:73\n",
      " in call at deprecated.jl:50\n",
      " [inlined code] from /home/csar/.julia/v0.4/TaylorSeries/src/TaylorN.jl:311\n",
      " in anonymous at no file:0\n",
      " in include at ./boot.jl:261\n",
      " in include_from_node1 at ./loading.jl:304\n",
      " in include at ./boot.jl:261\n",
      " in include_from_node1 at ./loading.jl:304\n",
      " in require at ./loading.jl:243\n",
      " in include_string at loading.jl:266\n",
      " in execute_request_0x535c5df2 at /home/csar/.julia/v0.4/IJulia/src/execute_request.jl:177\n",
      " in eventloop at /home/csar/.julia/v0.4/IJulia/src/IJulia.jl:141\n",
      " in anonymous at task.jl:447\n",
      "while loading /home/csar/.julia/v0.4/TaylorSeries/src/TaylorN.jl, in expression starting on line 312\n",
      "WARNING: Union(args...) is deprecated, use Union{args...} instead.\n",
      " in depwarn at deprecated.jl:73\n",
      " in call at deprecated.jl:50\n",
      " [inlined code] from /home/csar/.julia/v0.4/TaylorSeries/src/TaylorN.jl:311\n",
      " in anonymous at no file:0\n",
      " in include at ./boot.jl:261\n",
      " in include_from_node1 at ./loading.jl:304\n",
      " in include at ./boot.jl:261\n",
      " in include_from_node1 at ./loading.jl:304\n",
      " in require at ./loading.jl:243\n",
      " in include_string at loading.jl:266\n",
      " in execute_request_0x535c5df2 at /home/csar/.julia/v0.4/IJulia/src/execute_request.jl:177\n",
      " in eventloop at /home/csar/.julia/v0.4/IJulia/src/IJulia.jl:141\n",
      " in anonymous at task.jl:447\n",
      "while loading /home/csar/.julia/v0.4/TaylorSeries/src/TaylorN.jl, in expression starting on line 322\n",
      "WARNING: Union(args...) is deprecated, use Union{args...} instead.\n",
      " in depwarn at deprecated.jl:73\n",
      " in call at deprecated.jl:50\n",
      " [inlined code] from /home/csar/.julia/v0.4/TaylorSeries/src/TaylorN.jl:311\n",
      " in anonymous at no file:0\n",
      " in include at ./boot.jl:261\n",
      " in include_from_node1 at ./loading.jl:304\n",
      " in include at ./boot.jl:261\n",
      " in include_from_node1 at ./loading.jl:304\n",
      " in require at ./loading.jl:243\n",
      " in include_string at loading.jl:266\n",
      " in execute_request_0x535c5df2 at /home/csar/.julia/v0.4/IJulia/src/execute_request.jl:177\n",
      " in eventloop at /home/csar/.julia/v0.4/IJulia/src/IJulia.jl:141\n",
      " in anonymous at task.jl:447\n",
      "while loading /home/csar/.julia/v0.4/TaylorSeries/src/TaylorN.jl, in expression starting on line 312\n",
      "WARNING: Union(args...) is deprecated, use Union{args...} instead.\n",
      " in depwarn at deprecated.jl:73\n",
      " in call at deprecated.jl:50\n",
      " [inlined code] from /home/csar/.julia/v0.4/TaylorSeries/src/TaylorN.jl:311\n",
      " in anonymous at no file:0\n",
      " in include at ./boot.jl:261\n",
      " in include_from_node1 at ./loading.jl:304\n",
      " in include at ./boot.jl:261\n",
      " in include_from_node1 at ./loading.jl:304\n",
      " in require at ./loading.jl:243\n",
      " in include_string at loading.jl:266\n",
      " in execute_request_0x535c5df2 at /home/csar/.julia/v0.4/IJulia/src/execute_request.jl:177\n",
      " in eventloop at /home/csar/.julia/v0.4/IJulia/src/IJulia.jl:141\n",
      " in anonymous at task.jl:447\n",
      "while loading /home/csar/.julia/v0.4/TaylorSeries/src/TaylorN.jl, in expression starting on line 322\n",
      "WARNING: Union(args...) is deprecated, use Union{args...} instead.\n",
      " in depwarn at deprecated.jl:73\n",
      " in call at deprecated.jl:50\n",
      " in include at ./boot.jl:261\n",
      " in include_from_node1 at ./loading.jl:304\n",
      " in include at ./boot.jl:261\n",
      " in include_from_node1 at ./loading.jl:304\n",
      " in require at ./loading.jl:243\n",
      " in include_string at loading.jl:266\n",
      " in execute_request_0x535c5df2 at /home/csar/.julia/v0.4/IJulia/src/execute_request.jl:177\n",
      " in eventloop at /home/csar/.julia/v0.4/IJulia/src/IJulia.jl:141\n",
      " in anonymous at task.jl:447\n",
      "while loading /home/csar/.julia/v0.4/TaylorSeries/src/TaylorN.jl, in expression starting on line 369\n",
      "WARNING: Union(args...) is deprecated, use Union{args...} instead.\n",
      " in depwarn at deprecated.jl:73\n",
      " in call at deprecated.jl:50\n",
      " in include at ./boot.jl:261\n",
      " in include_from_node1 at ./loading.jl:304\n",
      " in include at ./boot.jl:261\n",
      " in include_from_node1 at ./loading.jl:304\n",
      " in require at ./loading.jl:243\n",
      " in include_string at loading.jl:266\n",
      " in execute_request_0x535c5df2 at /home/csar/.julia/v0.4/IJulia/src/execute_request.jl:177\n",
      " in eventloop at /home/csar/.julia/v0.4/IJulia/src/IJulia.jl:141\n",
      " in anonymous at task.jl:447\n",
      "while loading /home/csar/.julia/v0.4/TaylorSeries/src/TaylorN.jl, in expression starting on line 378\n",
      "WARNING: Union(args...) is deprecated, use Union{args...} instead.\n",
      " in depwarn at deprecated.jl:73\n",
      " in call at deprecated.jl:50\n",
      " in include at ./boot.jl:261\n",
      " in include_from_node1 at ./loading.jl:304\n",
      " in include at ./boot.jl:261\n",
      " in include_from_node1 at ./loading.jl:304\n",
      " in require at ./loading.jl:243\n",
      " in include_string at loading.jl:266\n",
      " in execute_request_0x535c5df2 at /home/csar/.julia/v0.4/IJulia/src/execute_request.jl:177\n",
      " in eventloop at /home/csar/.julia/v0.4/IJulia/src/IJulia.jl:141\n",
      " in anonymous at task.jl:447\n",
      "while loading /home/csar/.julia/v0.4/TaylorSeries/src/TaylorN.jl, in expression starting on line 383\n",
      "WARNING: Union(args...) is deprecated, use Union{args...} instead.\n",
      " in depwarn at deprecated.jl:73\n",
      " in call at deprecated.jl:50\n",
      " in include at ./boot.jl:261\n",
      " in include_from_node1 at ./loading.jl:304\n",
      " in include at ./boot.jl:261\n",
      " in include_from_node1 at ./loading.jl:304\n",
      " in require at ./loading.jl:243\n",
      " in include_string at loading.jl:266\n",
      " in execute_request_0x535c5df2 at /home/csar/.julia/v0.4/IJulia/src/execute_request.jl:177\n",
      " in eventloop at /home/csar/.julia/v0.4/IJulia/src/IJulia.jl:141\n",
      " in anonymous at task.jl:447\n",
      "while loading /home/csar/.julia/v0.4/TaylorSeries/src/TaylorN.jl, in expression starting on line 392\n",
      "WARNING: Union(args...) is deprecated, use Union{args...} instead.\n",
      " in depwarn at deprecated.jl:73\n",
      " in call at deprecated.jl:50\n",
      " in include at ./boot.jl:261\n",
      " in include_from_node1 at ./loading.jl:304\n",
      " in include at ./boot.jl:261\n",
      " in include_from_node1 at ./loading.jl:304\n",
      " in require at ./loading.jl:243\n",
      " in include_string at loading.jl:266\n",
      " in execute_request_0x535c5df2 at /home/csar/.julia/v0.4/IJulia/src/execute_request.jl:177\n",
      " in eventloop at /home/csar/.julia/v0.4/IJulia/src/IJulia.jl:141\n",
      " in anonymous at task.jl:447\n",
      "while loading /home/csar/.julia/v0.4/TaylorSeries/src/TaylorN.jl, in expression starting on line 845\n",
      "WARNING: Union(args...) is deprecated, use Union{args...} instead.\n",
      " in depwarn at deprecated.jl:73\n",
      " in call at deprecated.jl:50\n",
      " in include at ./boot.jl:261\n",
      " in include_from_node1 at ./loading.jl:304\n",
      " in include at ./boot.jl:261\n",
      " in include_from_node1 at ./loading.jl:304\n",
      " in require at ./loading.jl:243\n",
      " in include_string at loading.jl:266\n",
      " in execute_request_0x535c5df2 at /home/csar/.julia/v0.4/IJulia/src/execute_request.jl:177\n",
      " in eventloop at /home/csar/.julia/v0.4/IJulia/src/IJulia.jl:141\n",
      " in anonymous at task.jl:447\n",
      "while loading /home/csar/.julia/v0.4/TaylorSeries/src/TaylorN.jl, in expression starting on line 860\n",
      "WARNING: Union(args...) is deprecated, use Union{args...} instead.\n",
      " in depwarn at deprecated.jl:73\n",
      " in call at deprecated.jl:50\n",
      " in include at ./boot.jl:261\n",
      " in include_from_node1 at ./loading.jl:304\n",
      " in include at ./boot.jl:261\n",
      " in include_from_node1 at ./loading.jl:304\n",
      " in require at ./loading.jl:243\n",
      " in include_string at loading.jl:266\n",
      " in execute_request_0x535c5df2 at /home/csar/.julia/v0.4/IJulia/src/execute_request.jl:177\n",
      " in eventloop at /home/csar/.julia/v0.4/IJulia/src/IJulia.jl:141\n",
      " in anonymous at task.jl:447\n",
      "while loading /home/csar/.julia/v0.4/TaylorSeries/src/TaylorN.jl, in expression starting on line 879\n",
      "WARNING: Union(args...) is deprecated, use Union{args...} instead.\n",
      " in depwarn at deprecated.jl:73\n",
      " in call at deprecated.jl:50\n",
      " in include at ./boot.jl:261\n",
      " in include_from_node1 at ./loading.jl:304\n",
      " in include at ./boot.jl:261\n",
      " in include_from_node1 at ./loading.jl:304\n",
      " in require at ./loading.jl:243\n",
      " in include_string at loading.jl:266\n",
      " in execute_request_0x535c5df2 at /home/csar/.julia/v0.4/IJulia/src/execute_request.jl:177\n",
      " in eventloop at /home/csar/.julia/v0.4/IJulia/src/IJulia.jl:141\n",
      " in anonymous at task.jl:447\n",
      "while loading /home/csar/.julia/v0.4/TaylorSeries/src/TaylorN.jl, in expression starting on line 914\n",
      "WARNING: Union(args...) is deprecated, use Union{args...} instead.\n"
     ]
    }
   ],
   "source": [
    "#Llamando al paquete de Taylor\n",
    "\n",
    "using TaylorSeries"
   ]
  },
  {
   "cell_type": "code",
   "execution_count": 2,
   "metadata": {
    "collapsed": false
   },
   "outputs": [],
   "source": [
    "#Definiendo parámetros. Sólo para fijar ideas.\n",
    "\n",
    "x1_0 = 0.0;\n",
    "x2_0 = pi;\n",
    "l1 = pi/16;\n",
    "l2 = l1;\n",
    "V1 = pi/4;\n",
    "V2 = pi/2;\n",
    "\n",
    "per1=1;\n",
    "per2=1;\n",
    "\n"
   ]
  },
  {
   "cell_type": "markdown",
   "metadata": {},
   "source": [
    "A continuación se escribe la función `modulo2pi` que encuentra la diferencia entre dos ángulos en módulo 2$\\pi$"
   ]
  },
  {
   "cell_type": "code",
   "execution_count": 3,
   "metadata": {
    "collapsed": false
   },
   "outputs": [
    {
     "name": "stderr",
     "output_type": "stream",
     "text": [
      " in depwarn at deprecated.jl:73\n",
      " in call at deprecated.jl:50\n",
      " in include at ./boot.jl:261\n",
      " in include_from_node1 at ./loading.jl:304\n",
      " in include at ./boot.jl:261\n",
      " in include_from_node1 at ./loading.jl:304\n",
      " in require at ./loading.jl:243\n",
      " in include_string at loading.jl:266\n",
      " in execute_request_0x535c5df2 at /home/csar/.julia/v0.4/IJulia/src/execute_request.jl:177\n",
      " in eventloop at /home/csar/.julia/v0.4/IJulia/src/IJulia.jl:141\n",
      " in anonymous at task.jl:447\n",
      "while loading /home/csar/.julia/v0.4/TaylorSeries/src/printing.jl, in expression starting on line 149\n",
      "WARNING: Union(args...) is deprecated, use Union{args...} instead.\n",
      " in depwarn at deprecated.jl:73\n",
      " in call at deprecated.jl:50\n",
      " in include at ./boot.jl:261\n",
      " in include_from_node1 at ./loading.jl:304\n",
      " in include at ./boot.jl:261\n",
      " in include_from_node1 at ./loading.jl:304\n",
      " in require at ./loading.jl:243\n",
      " in include_string at loading.jl:266\n",
      " in execute_request_0x535c5df2 at /home/csar/.julia/v0.4/IJulia/src/execute_request.jl:177\n",
      " in eventloop at /home/csar/.julia/v0.4/IJulia/src/IJulia.jl:141\n",
      " in anonymous at task.jl:447\n",
      "while loading /home/csar/.julia/v0.4/TaylorSeries/src/printing.jl, in expression starting on line 154\n"
     ]
    },
    {
     "data": {
      "text/plain": [
       "modulo2pi (generic function with 1 method)"
      ]
     },
     "execution_count": 3,
     "metadata": {},
     "output_type": "execute_result"
    }
   ],
   "source": [
    "function modulo2pi(α,β)\n",
    "    #Esta función calcula la diferencia entre dos ángulos y la devuelve \n",
    "    #módulo 2π.\n",
    "    δ=α-β \n",
    "    \n",
    "    if δ<0\n",
    "        δ = 2π + δ\n",
    "    else \n",
    "        δ = δ \n",
    "    end\n",
    "    \n",
    "    return δ\n",
    "end"
   ]
  },
  {
   "cell_type": "code",
   "execution_count": 4,
   "metadata": {
    "collapsed": false
   },
   "outputs": [
    {
     "data": {
      "text/plain": [
       "fmax (generic function with 1 method)"
      ]
     },
     "execution_count": 4,
     "metadata": {},
     "output_type": "execute_result"
    }
   ],
   "source": [
    "#La siguiente función calcula los coeficientes de la velocidad de seguridad\n",
    "\n",
    "function fSec{R<:Real }(T::R, car::TaylorSeries.Taylor1{R}, frontcar::TaylorSeries.Taylor1{R} , lfcar::R, Vmax::R)\n",
    "    k = max(car.order, frontcar.order)\n",
    "    \n",
    "    vel = taylor1_variable(Float64, k)\n",
    "     \n",
    "    vel.coeffs[1] = 1/T * modulo2pi(frontcar.coeffs[1]-lfcar,car.coeffs[1])\n",
    "    \n",
    "    for i = 2 : k+1\n",
    "        vel.coeffs[i] = 1/T * (frontcar.coeffs[i]-car.coeffs[i])\n",
    "    end\n",
    "        \n",
    "    \n",
    "    return vel\n",
    "end\n",
    "\n",
    "function fmax{R<:Real}(T::R, car::TaylorSeries.Taylor1{R}, frontcar::TaylorSeries.Taylor1{R} , lfcar::R, Vmax::R)\n",
    "    vel = taylor1_variable(Float64,10)\n",
    "    \n",
    "    vel.coeffs[1] = Vmax\n",
    "    vel.coeffs[2] = 0\n",
    "    return vel\n",
    "end\n"
   ]
  },
  {
   "cell_type": "markdown",
   "metadata": {},
   "source": [
    "Ahora se definen un par de variables tipo `Taylor1` que tendrá información de las series de taylor de las funciones $x_1 (t)$ y $x_2 (t)$."
   ]
  },
  {
   "cell_type": "markdown",
   "metadata": {
    "collapsed": true
   },
   "source": [
    "Ahora, a encontrar los siguientes coeficientes. Usando que \n",
    "$$ x_{n+1} = \\frac{f_n}{n+1} $$"
   ]
  },
  {
   "cell_type": "markdown",
   "metadata": {
    "collapsed": false
   },
   "source": [
    "Es momento de avanzar. definamos la épsilon y la función para calcular el siguiente paso.\n",
    "\n",
    "Sabemos que el paso siguiente está dado por \n",
    "$$ h = \\min\\big[\\, \\big(\\frac{\\epsilon}{x^{[p-1]}}\\big)^{1/(p-1)}, \\big(\\frac{\\epsilon}{x^{[p]}}\\big)^{1/p}\\, \\big] $$"
   ]
  },
  {
   "cell_type": "code",
   "execution_count": 5,
   "metadata": {
    "collapsed": false
   },
   "outputs": [
    {
     "data": {
      "text/plain": [
       "stepsize (generic function with 1 method)"
      ]
     },
     "execution_count": 5,
     "metadata": {},
     "output_type": "execute_result"
    }
   ],
   "source": [
    "function stepsize{T<:Real}(x::TaylorSeries.Taylor1{T}, epsilon::Float64)\n",
    "    ord = x.order\n",
    "    h = Inf\n",
    "    \n",
    "    if ord > 1\n",
    "        \n",
    "        for k in [ord-1, ord]\n",
    "            kinv = 1.0/k\n",
    "            aux = abs( x.coeffs[k+1] )\n",
    "            h = min(h, (epsilon/aux)^kinv)\n",
    "        end\n",
    "    \n",
    "    elseif ord == 1\n",
    "        \n",
    "        \n",
    "        \n",
    "        aux = abs( x.coeffs[2])\n",
    "        \n",
    "        h = min(h, (epsilon/aux))\n",
    "        \n",
    "    end\n",
    "        \n",
    "    \n",
    "    \n",
    "    return h\n",
    "end"
   ]
  },
  {
   "cell_type": "markdown",
   "metadata": {
    "collapsed": true
   },
   "source": [
    "Necesitamos una función que sólo con las condiciones iniciales (y otros parámetros) , calcule las series de dos coches."
   ]
  },
  {
   "cell_type": "code",
   "execution_count": 6,
   "metadata": {
    "collapsed": false,
    "slideshow": {
     "slide_type": "notes"
    }
   },
   "outputs": [
    {
     "data": {
      "text/plain": [
       "series (generic function with 1 method)"
      ]
     },
     "execution_count": 6,
     "metadata": {},
     "output_type": "execute_result"
    }
   ],
   "source": [
    "function series(x10,x20,T1,T2,L1,L2,V1,V2)\n",
    "   \n",
    "    \n",
    "    vel1 = 1/T1 * modulo2pi(x20-L2,x10)\n",
    "    \n",
    "    vel2 = 1/T2 * modulo2pi(x10-L1,x20)\n",
    "    #Velocidades de seguridad.\n",
    "    \n",
    "    if vel1 < V1 && vel2 < V2\n",
    "    \n",
    "        x1 = taylor1_variable(Float64,20)\n",
    "        x2 = taylor1_variable(Float64,20)\n",
    "    \n",
    "        x1.coeffs[1] = x10\n",
    "        x1.coeffs[2] = 0\n",
    "    \n",
    "        x2.coeffs[1] = x20\n",
    "        x2.coeffs[2] = 0\n",
    "        \n",
    "        for i = 2:20\n",
    "            x1.coeffs[i] = velocidad_sec(T1,x1,x2,L2).coeffs[i-1]/i\n",
    "            x2.coeffs[i] = velocidad_sec(T2,x2,x1,L1).coeffs[i-1]/i\n",
    "        end\n",
    "    \n",
    "    \n",
    "    elseif vel1 < V1 && vel2 > V2\n",
    "        \n",
    "        x1 = taylor1_variable(Float64,20)\n",
    "        x2 = taylor1_variable(Float64,1)\n",
    "        \n",
    "        x1.coeffs[1] = x10\n",
    "        x1.coeffs[2] = 0\n",
    "        \n",
    "        x2.coeffs[1] = x20\n",
    "        \n",
    "        \n",
    "        x2.coeffs[2] = V2\n",
    "        for i = 2:20\n",
    "            x1.coeffs[i] = velocidad_sec(T1,x1,x2,L2).coeffs[i-1]/i\n",
    "        end\n",
    "        \n",
    "    \n",
    "    \n",
    "\n",
    "    \n",
    "    elseif vel1 > V1 && vel2 < V2\n",
    "        \n",
    "        x1 = taylor1_variable(Float64,1)\n",
    "        x2 = taylor1_variable(Float64,20)\n",
    "        \n",
    "        x1.coeffs[1] = x10\n",
    "        x1.coeffs[2] = V1\n",
    "        \n",
    "        x2.coeffs[1] = x20\n",
    "        x2.coeffs[0] = 0\n",
    "        \n",
    "        for i = 2:20\n",
    "            x2.coeffs[i] = velocidad_sec(T2,x2,x1,L1).coeffs[i-1]/i\n",
    "        end\n",
    "        \n",
    "        \n",
    "    \n",
    "    \n",
    "    elseif vel1 > V1 && vel2 > V2\n",
    "        x1 = taylor1_variable(Float64,1)\n",
    "        x2 = taylor1_variable(Float64,1)\n",
    "        \n",
    "        x1.coeffs[1] = x10\n",
    "        x1.coeffs[2] = V1\n",
    "        \n",
    "        x2.coeffs[1] = x20\n",
    "        x2.coeffs[2] = V2\n",
    "        \n",
    "    end\n",
    "    \n",
    "    return x1, x2\n",
    "    \n",
    "end\n",
    "    \n",
    "        \n",
    "    \n",
    "    \n",
    "    \n",
    "    "
   ]
  },
  {
   "cell_type": "code",
   "execution_count": 7,
   "metadata": {
    "collapsed": false
   },
   "outputs": [
    {
     "data": {
      "text/plain": [
       "TaylorSeries.Taylor1{Float64}"
      ]
     },
     "execution_count": 7,
     "metadata": {},
     "output_type": "execute_result"
    }
   ],
   "source": [
    " x2 = taylor1_variable(Float64,1)\n",
    "typeof(x2)"
   ]
  },
  {
   "cell_type": "code",
   "execution_count": 8,
   "metadata": {
    "collapsed": false
   },
   "outputs": [],
   "source": [
    "\n",
    "#t1 y t2 son vectores donde se guardarán los tiempos donde se evalúa la función.\n",
    "t1 = Float64[];\n",
    "push!(t1,0);\n",
    "\n",
    "#x1 y x2 son vectores donde se guardarán los valores de las funciones x1(t) y x2(t)\n",
    "\n",
    "x1 = Float64[];\n",
    "push!(x1,x1_0);\n",
    "x2 = Float64[];\n",
    "push!(x2,x2_0);\n",
    "\n",
    "\n",
    "\n",
    "\n",
    "for n in 2:1000\n",
    "    \n",
    "    x1Taylor = series(x1_0,x2_0,per1,per2,l1,l2,V1,V2)[1]\n",
    "    x2Taylor = series(x1_0,x2_0,per1,per2,l1,l2,V1,V2)[2]\n",
    "    \n",
    "    h1 = stepsize(x1Taylor,1.0e-5)\n",
    "    \n",
    "    h2 = stepsize(x2Taylor,1.0e-5)\n",
    "    h = min(h1,h2)\n",
    "    \n",
    "    \n",
    "    \n",
    "    push!(t1,t1[n-1] + h)\n",
    "    \n",
    "    x1_0 = evaluate(x1Taylor,h)\n",
    "    push!(x1,x1_0)\n",
    "    x2_0 = evaluate(x2Taylor,h)\n",
    "    push!(x2,x2_0)\n",
    "    \n",
    "end\n",
    "    \n",
    "    \n",
    "    \n",
    "    \n",
    "    "
   ]
  },
  {
   "cell_type": "code",
   "execution_count": 9,
   "metadata": {
    "collapsed": false
   },
   "outputs": [
    {
     "data": {
      "text/plain": [
       "1000-element Array{Float64,1}:\n",
       " 0.0     \n",
       " 5.0e-6  \n",
       " 1.0e-5  \n",
       " 1.5e-5  \n",
       " 2.0e-5  \n",
       " 2.5e-5  \n",
       " 3.0e-5  \n",
       " 3.5e-5  \n",
       " 4.0e-5  \n",
       " 4.5e-5  \n",
       " 5.0e-5  \n",
       " 5.5e-5  \n",
       " 6.0e-5  \n",
       " ⋮       \n",
       " 0.00494 \n",
       " 0.004945\n",
       " 0.00495 \n",
       " 0.004955\n",
       " 0.00496 \n",
       " 0.004965\n",
       " 0.00497 \n",
       " 0.004975\n",
       " 0.00498 \n",
       " 0.004985\n",
       " 0.00499 \n",
       " 0.004995"
      ]
     },
     "execution_count": 9,
     "metadata": {},
     "output_type": "execute_result"
    }
   ],
   "source": [
    "x1"
   ]
  },
  {
   "cell_type": "code",
   "execution_count": 10,
   "metadata": {
    "collapsed": false
   },
   "outputs": [
    {
     "ename": "LoadError",
     "evalue": "LoadError: MethodError: `stepsize` has no method matching stepsize(::Array{Float64,1}, ::Float64)\nClosest candidates are:\n  stepsize{T<:Real}(!Matched::TaylorSeries.Taylor1{T<:Real}, ::Float64)\nwhile loading In[10], in expression starting on line 1",
     "output_type": "error",
     "traceback": [
      "LoadError: MethodError: `stepsize` has no method matching stepsize(::Array{Float64,1}, ::Float64)\nClosest candidates are:\n  stepsize{T<:Real}(!Matched::TaylorSeries.Taylor1{T<:Real}, ::Float64)\nwhile loading In[10], in expression starting on line 1",
      ""
     ]
    }
   ],
   "source": [
    "h = stepsize(x2,1.0e-20)"
   ]
  },
  {
   "cell_type": "code",
   "execution_count": 11,
   "metadata": {
    "collapsed": false
   },
   "outputs": [
    {
     "data": {
      "text/plain": [
       "Array{Float64,1}"
      ]
     },
     "execution_count": 11,
     "metadata": {},
     "output_type": "execute_result"
    }
   ],
   "source": [
    "t1\n",
    "typeof(t1)"
   ]
  },
  {
   "cell_type": "code",
   "execution_count": 12,
   "metadata": {
    "collapsed": false
   },
   "outputs": [
    {
     "data": {
      "text/plain": [
       "speed (generic function with 1 method)"
      ]
     },
     "execution_count": 12,
     "metadata": {},
     "output_type": "execute_result"
    }
   ],
   "source": [
    "function speed(intPos::Array{Float64,1}, carL::Array{Float64,1}, carτ::Array{Float64,1}, carV::Array{Float64,1})\n",
    "    #Esta función decide la función que debe generar la serie de cada carro.\n",
    "    \n",
    "    n = length(intPos)\n",
    "    F = Function[]\n",
    "   \n",
    "    #F será un arreglo de funciones, una función para cada carro.\n",
    "    \n",
    "    for j in 1:n-1\n",
    "        \n",
    "        a = (modulo2pi(intPos[j+1],intPos[j])-carL[j+1])/carτ[j] #Checa la distancia al coche de enfrente.\n",
    "        b = carV[j]\n",
    "        \n",
    "        if a < b #Compara las velocidades y decide que función aplicar al coche j\n",
    "            push!(F,fSec)\n",
    "        else\n",
    "            push!(F,fmax)\n",
    "        end\n",
    "        \n",
    "    end\n",
    "    #El coche que está delante del enésimo es el coch 1. Se debe cerrar la cadena.\n",
    "    \n",
    "    a = (modulo2pi(intPos[1],intPos[n])-carL[1])/carτ[n]\n",
    "    b = carV[n]\n",
    "    \n",
    "    if a < b\n",
    "        push!(F,fSec)\n",
    "    else\n",
    "        push!(F,fmax)\n",
    "    end\n",
    "    \n",
    "    return F\n",
    "    \n",
    "end"
   ]
  },
  {
   "cell_type": "code",
   "execution_count": 13,
   "metadata": {
    "collapsed": false
   },
   "outputs": [
    {
     "data": {
      "text/plain": [
       "3-element Array{Float64,1}:\n",
       " 0.785398\n",
       " 1.5708  \n",
       " 2.35619 "
      ]
     },
     "execution_count": 13,
     "metadata": {},
     "output_type": "execute_result"
    }
   ],
   "source": [
    "X0 = [0,π,7*π/4];\n",
    "L = π/16 * [1,1,1];\n",
    "Τ = [1.0,1.0,1.0];\n",
    "V = [π/4, π/2, 3*π/4]"
   ]
  },
  {
   "cell_type": "code",
   "execution_count": 14,
   "metadata": {
    "collapsed": false
   },
   "outputs": [
    {
     "data": {
      "text/plain": [
       "3-element Array{Function,1}:\n",
       " fmax\n",
       " fmax\n",
       " fSec"
      ]
     },
     "execution_count": 14,
     "metadata": {},
     "output_type": "execute_result"
    }
   ],
   "source": [
    "F = speed(X0, L, Τ, V)"
   ]
  },
  {
   "cell_type": "code",
   "execution_count": 15,
   "metadata": {
    "collapsed": false
   },
   "outputs": [
    {
     "ename": "LoadError",
     "evalue": "LoadError: MethodError: `fmax` has no method matching fmax(::Float64, ::Array{Float64,1}, ::Array{Float64,1}, ::Float64, ::Float64)\nClosest candidates are:\n  fmax{R<:Real}(::R<:Real, !Matched::TaylorSeries.Taylor1{R<:Real}, !Matched::TaylorSeries.Taylor1{R<:Real}, ::R<:Real, ::R<:Real)\nwhile loading In[15], in expression starting on line 1",
     "output_type": "error",
     "traceback": [
      "LoadError: MethodError: `fmax` has no method matching fmax(::Float64, ::Array{Float64,1}, ::Array{Float64,1}, ::Float64, ::Float64)\nClosest candidates are:\n  fmax{R<:Real}(::R<:Real, !Matched::TaylorSeries.Taylor1{R<:Real}, !Matched::TaylorSeries.Taylor1{R<:Real}, ::R<:Real, ::R<:Real)\nwhile loading In[15], in expression starting on line 1",
      ""
     ]
    }
   ],
   "source": [
    "F[1](1.,x2,x2,1.,π/4)"
   ]
  },
  {
   "cell_type": "code",
   "execution_count": 16,
   "metadata": {
    "collapsed": false
   },
   "outputs": [
    {
     "data": {
      "text/plain": [
       "Taylorcars (generic function with 1 method)"
      ]
     },
     "execution_count": 16,
     "metadata": {},
     "output_type": "execute_result"
    }
   ],
   "source": [
    "function Taylorcars(initPos::Array{Float64,1}, carL::Array{Float64,1}, carτ::Array{Float64,1}, carV::Array{Float64,1})\n",
    "    \n",
    "    n = length(initPos)\n",
    "    \n",
    "    Xcars = TaylorSeries.Taylor1{Float64}[]\n",
    "    \n",
    "    #El siguiente cilco llena el arreglo Xcars con taylors que sólo tienen el coeficiente de orden cero.\n",
    "    for i in 1:n\n",
    "        x = taylor1_variable(Float64,10)\n",
    "        x.coeffs[1] = initPos[i]\n",
    "        x.coeffs[2] = 0\n",
    "        \n",
    "        push!(Xcars,x)\n",
    "    end\n",
    "    \n",
    "    #Se aplica la función speed para conocer la velocidad que tendrá cada carro\n",
    "    F = speed(initPos::Array{Float64,1}, carL::Array{Float64,1}, carτ::Array{Float64,1}, carV::Array{Float64,1})\n",
    "    \n",
    "    #Una vez conociendo la velocidad se puede proseguir a calcular coeficientes de las series de taylor de órdenes mayores\n",
    "    for i in 1:n-1\n",
    "        for j in 2:11\n",
    "            #Solo se aplica la fórmula de recurrencia.\n",
    "            Xcars[i].coeffs[j] = F[i](carτ[i], Xcars[i], Xcars[i+1] , carL[i+1] , carV[i] ).coeffs[j-1]/(j-1) #se divide entre j-1 para corregir el desfase de los Taylor1 en los coeffs.\n",
    "        end\n",
    "    end\n",
    "    \n",
    "    #Al igual que con la velocidad, el último coche debe cerrar el ciclo. Tiene enfrente al coche 1.\n",
    "    for j in 2:11\n",
    "            \n",
    "        Xcars[n].coeffs[j] = F[n](carτ[n], Xcars[n], Xcars[1] , carL[1] , carV[n] ).coeffs[j-1]/(j-1) #se divide entre j-1 para corregir el desfase de los Taylor1 en los coeffs.\n",
    "    end\n",
    "    \n",
    "    return Xcars\n",
    "    \n",
    "end\n",
    "    \n",
    "    "
   ]
  },
  {
   "cell_type": "code",
   "execution_count": 17,
   "metadata": {
    "collapsed": false
   },
   "outputs": [
    {
     "data": {
      "text/plain": [
       "3-element Array{TaylorSeries.Taylor1{Float64},1}:\n",
       "                                                                                                                                                                                                                                                               0.7853981633974483 t + 𝒪(t¹¹)\n",
       "                                                                                                                                                                                                                                           3.141592653589793 + 1.5707963267948966 t + 𝒪(t¹¹)\n",
       "  5.497787143782138 + 0.589048622548086 t + 0.09817477042468115 t² - 0.03272492347489372 t³ + 0.00818123086872343 t⁴ - 0.0016362461737446858 t⁵ + 0.0002727076956241143 t⁶ - 3.895824223201633e-5 t⁷ + 4.869780279002041e-6 t⁸ - 5.410866976668934e-7 t⁹ + 5.410866976668934e-8 t¹⁰ + 𝒪(t¹¹)"
      ]
     },
     "execution_count": 17,
     "metadata": {},
     "output_type": "execute_result"
    }
   ],
   "source": [
    "a=Taylorcars(X0, L, Τ, V)"
   ]
  },
  {
   "cell_type": "code",
   "execution_count": 18,
   "metadata": {
    "collapsed": false
   },
   "outputs": [
    {
     "data": {
      "text/plain": [
       " 0.7853981633974483 + 𝒪(t¹¹)"
      ]
     },
     "execution_count": 18,
     "metadata": {},
     "output_type": "execute_result"
    }
   ],
   "source": [
    "diffTaylor(a[1])"
   ]
  },
  {
   "cell_type": "code",
   "execution_count": 19,
   "metadata": {
    "collapsed": false
   },
   "outputs": [
    {
     "data": {
      "text/plain": [
       "hselector (generic function with 1 method)"
      ]
     },
     "execution_count": 19,
     "metadata": {},
     "output_type": "execute_result"
    }
   ],
   "source": [
    "#Seleccionamos el tamano de la h que vamos a usar para eso generamos un arreglo de h y elejiremos la más chica de ellas\n",
    "#dada una épsilon\n",
    "function hselector(seriecoches,ϵ)\n",
    "    n=length(seriecoches)\n",
    "    hs = Float64[]\n",
    "    \n",
    "    for i in 1:n\n",
    "        h=stepsize(seriecoches[i],ϵ)\n",
    "        push!(hs,h)\n",
    "    end\n",
    "    \n",
    "    minabs(hs)\n",
    "end"
   ]
  },
  {
   "cell_type": "code",
   "execution_count": 20,
   "metadata": {
    "collapsed": false
   },
   "outputs": [
    {
     "data": {
      "text/plain": [
       "2.306589704437606"
      ]
     },
     "execution_count": 20,
     "metadata": {},
     "output_type": "execute_result"
    }
   ],
   "source": [
    "b=hselector(a,1.0e-3)"
   ]
  },
  {
   "cell_type": "code",
   "execution_count": 21,
   "metadata": {
    "collapsed": false
   },
   "outputs": [
    {
     "data": {
      "text/plain": [
       "2.306589704437606"
      ]
     },
     "execution_count": 21,
     "metadata": {},
     "output_type": "execute_result"
    }
   ],
   "source": [
    "c=minabs(b)"
   ]
  },
  {
   "cell_type": "code",
   "execution_count": 22,
   "metadata": {
    "collapsed": false
   },
   "outputs": [
    {
     "data": {
      "text/plain": [
       "celeritates (generic function with 1 method)"
      ]
     },
     "execution_count": 22,
     "metadata": {},
     "output_type": "execute_result"
    }
   ],
   "source": [
    "function positions(tayse,h) #Calcula las nuevas posiciones\n",
    "    x=Float64[];\n",
    "    n=length(tayse)\n",
    "    \n",
    "    for i in 1:n\n",
    "        pos= evaluate(tayse[i],h)\n",
    "        push!(x,pos)\n",
    "    end\n",
    "    \n",
    "    return x\n",
    "end\n",
    "\n",
    "function celeritates(tayse,h) #Calcula las nuevas velocidades\n",
    "    v=Float64[];\n",
    "    n=length(tayse)\n",
    "    \n",
    "    for i in 1:n\n",
    "        ves= evaluate(diffTaylor(tayse[i]),h) #hace las primeras derivadas de las series de taylor de cada coche y las evalua\n",
    "        push!(v,ves)\n",
    "    end\n",
    "    \n",
    "    return v\n",
    "end"
   ]
  },
  {
   "cell_type": "code",
   "execution_count": 23,
   "metadata": {
    "collapsed": false
   },
   "outputs": [
    {
     "data": {
      "text/plain": [
       "3-element Array{Float64,1}:\n",
       " 1.81159\n",
       " 6.76478\n",
       " 7.13263"
      ]
     },
     "execution_count": 23,
     "metadata": {},
     "output_type": "execute_result"
    }
   ],
   "source": [
    "positions(a,b)"
   ]
  },
  {
   "cell_type": "code",
   "execution_count": 24,
   "metadata": {
    "collapsed": false
   },
   "outputs": [
    {
     "data": {
      "text/plain": [
       "3-element Array{Float64,1}:\n",
       " 0.785398\n",
       " 1.5708  \n",
       " 0.766032"
      ]
     },
     "execution_count": 24,
     "metadata": {},
     "output_type": "execute_result"
    }
   ],
   "source": [
    "celeritates(a,b)"
   ]
  },
  {
   "cell_type": "code",
   "execution_count": 25,
   "metadata": {
    "collapsed": false
   },
   "outputs": [
    {
     "data": {
      "text/plain": [
       "0.7853981633974483"
      ]
     },
     "execution_count": 25,
     "metadata": {},
     "output_type": "execute_result"
    }
   ],
   "source": [
    "evaluate(diffTaylor(a[1]),b)"
   ]
  },
  {
   "cell_type": "code",
   "execution_count": 72,
   "metadata": {
    "collapsed": false
   },
   "outputs": [
    {
     "data": {
      "text/plain": [
       "Taypos (generic function with 2 methods)"
      ]
     },
     "execution_count": 72,
     "metadata": {},
     "output_type": "execute_result"
    }
   ],
   "source": [
    "#Ahora vamos a correr el método de Taylor.\n",
    "function Taypos(X0, L, Τ, V,tf,ϵ,ti=0.0)\n",
    "    tempore = Float64[ti]; #Arreglo de tiempo\n",
    "    #loca = Vector{Float64}[X0]; #Arreglo de arreglo de posiciones\n",
    "    #celeritates = Vector{Float64}[V]; #Arreglo de arreglo de velocidades\n",
    "    \n",
    "    while ti <= tf\n",
    "        tayseries = Taylorcars(X0, L, Τ, V)\n",
    "        h = hselector(tayseries,ϵ)\n",
    "        xs = positions(tayseries, h)\n",
    "        vs = celeritates(tayseries,h)\n",
    "        ti = ti+h\n",
    "        push!(tempore,ti)\n",
    "        #push!(loca,xs)\n",
    "        #push!(celeritates, [vs])\n",
    "        X0 = xs\n",
    "        V = vs\n",
    "        println(X0)\n",
    "    end \n",
    "end\n"
   ]
  },
  {
   "cell_type": "code",
   "execution_count": 73,
   "metadata": {
    "collapsed": false
   },
   "outputs": [
    {
     "data": {
      "text/plain": [
       "0.01"
      ]
     },
     "execution_count": 73,
     "metadata": {},
     "output_type": "execute_result"
    }
   ],
   "source": [
    "X0 = [0,π,7*π/4];\n",
    "L = π/16 * [1,1,1];\n",
    "Τ = [1.0,1.0,1.0];\n",
    "V = [π/4, π/2, 3*π/4]\n",
    "tf = 1000\n",
    "ϵ = 1e-2"
   ]
  },
  {
   "cell_type": "code",
   "execution_count": 74,
   "metadata": {
    "collapsed": false
   },
   "outputs": [
    {
     "name": "stdout",
     "output_type": "stream",
     "text": [
      "[2.339760159360135,7.821112972310063,7.65182441804777]\n",
      "[5.5750140829096075,14.291620819409008,10.87776666068989]\n",
      "[9.655758461497943,22.453109576585675,14.95890305909783]\n",
      "[11.535634756748857,21.17467422755191,16.837228744943758]\n",
      "[16.705583508638355,20.34170184530884,22.00953844634735]\n",
      "[20.502258689621247,19.729988708123365,25.80522036833171]\n",
      "[24.51663774657374,19.08319953345808,29.819737827486158]\n",
      "[25.09049017022688,18.81663976245266,30.915004447568805]\n",
      "[24.921623958965807,18.5211604264493,31.024800599160738]\n",
      "[24.627127529816264,18.163296918000334,30.970580073345864]\n",
      "[24.29108795679378,17.882245953951266,30.49608976512736]\n",
      "[23.988863534621906,17.525429216609517,30.154916801463294]\n",
      "[23.63640273388715,17.174767732599705,29.819629228818172]\n",
      "[23.28559459276058,16.823919597880003,29.484163188715673]\n",
      "[22.934749715609197,16.473075622674838,29.148701125763775]\n",
      "[22.601031253548214,16.19326708440644,28.792097383951052]\n",
      "[22.299800703524966,15.836317393819224,28.49021835263312]\n",
      "[21.94729490708833,15.485660978058798,28.19366166157385]\n",
      "[21.613497288583904,15.205495747101239,27.80791327156687]\n",
      "[21.312047850049602,14.848575379490871,27.496581891567835]\n",
      "[20.95955200865563,14.497917842470802,27.19071339872044]\n",
      "[20.62580770102679,14.217918872407733,26.81864975099475]\n",
      "[20.32446219807301,13.8609845842044,26.511759256595504]\n",
      "[19.971961632886742,13.510327579240428,26.21026594207076]\n",
      "[19.638192313268252,13.230250628748651,25.831774343197342]\n",
      "[19.336798070346067,12.873322869185012,25.52279594396524]\n",
      "[18.98429972107301,12.522665614636507,25.21924567563649]\n",
      "[18.650542168054287,12.242625354894805,24.84377641804843]\n",
      "[18.3491708597143,11.885694523426519,24.535779296205522]\n",
      "[17.996671467901955,11.53503738630236,24.233195771706853]\n",
      "[17.662908386362506,11.254979888738529,23.856306114368152]\n",
      "[17.361526303442975,10.89805050047156,23.547847729918203]\n",
      "[17.009027401446648,10.547393308177993,23.244809777353403]\n",
      "[16.675266919008706,10.267343914844753,22.868587808107215]\n",
      "[16.373889901764873,9.910413848062838,22.56034622866789]\n",
      "[16.021390769488953,9.559756681706345,22.25752186933622]\n",
      "[15.68762906548452,9.279703479481967,21.880986072153355]\n",
      "[15.38624966745363,8.922773731592862,21.57264258500851]\n",
      "[15.033750643407167,8.572116553046166,21.26971782778414]\n",
      "[14.699989513608568,8.29206514123134,20.893329543760743]\n",
      "[14.398611234696167,7.935135243443061,20.585033956770015]\n",
      "[14.046112159775483,7.584478070626479,20.282156390066085]\n",
      "[13.71235076008397,7.304425817271781,19.905698769853537]\n",
      "[13.410971955157226,6.947495989940029,19.597380667939365]\n",
      "[13.058472904148813,6.596838814430137,19.294480919874022]\n",
      "[12.724711631318224,6.3167869566349415,18.91805589037386]\n",
      "[12.423333073640787,5.959857096185615,18.609748371301645]\n",
      "[12.070834011392598,5.609199921941693,18.306859049293333]\n",
      "[11.737072678932893,5.329147878219702,17.930418700965227]\n",
      "[11.435694005039684,4.972218033336791,17.622106207558826]\n",
      "[11.083194948074585,4.621560858497818,17.31921198491148]\n",
      "[10.749433643642849,4.34150890216858,16.94277883701047]\n",
      "[10.448055024375538,3.9845790499688536,16.63446868172637]\n",
      "[10.095555964927184,3.633921875409577,16.331576762561937]\n",
      "[9.761794647321269,3.353869878002526,15.955140230192319]\n",
      "[9.460416002377777,2.996940029241972,15.646828975903217]\n",
      "[9.107916944096642,2.646282854551228,15.343935974015604]\n",
      "[8.774155632683087,2.366230876452294,14.96750103247298]\n",
      "[8.472776999808366,2.0093010260752,14.65919029475727]\n",
      "[8.120277940978596,1.6586438514462505,14.356297801789985]\n",
      "[7.786516626654399,1.3785918642717825,13.97986211249928]\n",
      "[7.4851379881069064,1.0216620146545226,13.671551131974763]\n",
      "[7.132638929535016,0.6710048399965274,13.368658399795898]\n",
      "[6.798877616578929,0.39095285708790023,12.992223061974748]\n",
      "[6.497498980697851,0.034023007113489656,12.683912195579444]\n",
      "[6.1449999220047475,-0.3166341675308529,12.381019575838959]\n",
      "[5.811238608405598,-0.5966861524445846,12.004584072813987]\n",
      "[5.509859971271206,-0.9536160022511211,11.696273152773687]\n",
      "[5.157360912635077,-1.3042731769018807,11.393380480182962]\n",
      "[4.823599599338191,-1.5843251608731386,11.016945054809963]\n",
      "[4.522220962792903,-1.9412550107585822,10.708634159984816]\n",
      "[4.169721904129995,-2.291912185406326,10.405741512235682]\n",
      "[3.835960590691033,-2.5719641698205815,10.029306050363349]\n",
      "[3.5345819538688446,-2.928894019668936,9.720995143686135]\n",
      "[3.1820828952185227,-3.2795511943180973,9.418102484260523]\n",
      "[2.848321581846342,-3.559603178524127,9.041667039544246]\n",
      "[2.5469429451543073,-3.9165330283899147,8.733356138437948]\n",
      "[2.194443886498069,-4.2671902030384095,8.430463484500716]\n",
      "[1.860682573094499,-4.547242187342313,8.054028031720451]\n",
      "[1.5593039363412875,-4.904172037199906,7.745717127995614]\n",
      "[1.20680487768783,-5.2548292118487145,7.442824471478638]\n",
      "[0.8730435642990146,-5.534881196106614,7.066389022488749]\n",
      "[0.5716649275745582,-5.891811045968059,6.758078119994725]\n",
      "[0.21916586891979384,-6.24246822061672,6.455185464690326]\n",
      "[-0.11459544447595721,-6.522520204896243,6.078750013918816]\n",
      "[-0.41597408121393,-6.8794500547558775,5.7704391108462625]\n",
      "[-0.7684731398680795,-7.230107229404608,5.467546454971906]\n",
      "[-1.1022344532605706,-7.510159213673967,5.091111005037826]\n",
      "[-1.4036130899921901,-7.867089063534452,4.782800102237204]\n",
      "[-1.7561121486466282,-8.21774623818315,4.479907446630751]\n",
      "[-2.0898734620406505,-8.497798222457286,4.103471996303046]\n",
      "[-2.391252098775256,-8.854728072317371,3.7951610933746065]\n",
      "[-2.7437511574295588,-9.205385246966085,3.492268437642229]\n",
      "[-3.077512470822862,-9.485437231237976,3.1158329874995423]\n",
      "[-3.378891107556064,-9.84236708109825,2.8075220846311812]\n",
      "[-3.731390166210431,-10.193024255746955,2.504629428957992]\n",
      "[-4.065151479604072,-10.473076240019902,2.1281939787283397]\n",
      "[-4.366530116337934,-10.830006089880087,1.8198830758317388]\n",
      "[-4.71902917499227,-11.180663264528796,1.5169904201307278]\n",
      "[-5.052790488385754,-11.460715248801247,1.1405549699419548]\n",
      "[-5.354169125119306,-11.817645098661474,0.8322440670586274]\n",
      "[-5.706668183773657,-12.168302273310182,0.5293514113706936]\n",
      "[-6.040429497167215,-12.448354257582865,0.15291596116270417]\n",
      "[-6.341808133900912,-12.805284107443073,-0.15539494172686202]\n",
      "[-6.694307192555257,-13.155941282091781,-0.4582875974209422]\n",
      "[-7.028068505948779,-13.435993266364356,-0.8347230476198988]\n",
      "[-7.329447142682408,-13.792923116224573,-1.1430339505065312]\n",
      "[-7.681946201336756,-14.143580290873281,-1.4459266061977212]\n",
      "[-8.015707514730295,-14.423632275145907,-1.8223620564009262]\n",
      "[-8.317086151463958,-14.780562125006119,-2.130672959288939]\n",
      "[-8.669585210118303,-15.131219299654827,-2.4335656149814895]\n",
      "[-9.003346523511834,-15.411271283927428,-2.8100010651826937]\n",
      "[-9.30472516024548,-15.768201133787642,-3.1183119680700564]\n",
      "[-9.657224218899826,-16.11885830843635,-3.421204623761966]\n",
      "[-9.990985532293362,-16.398910292708965,-3.797640073964113]\n",
      "[-10.292364169027016,-16.755840142569177,-4.105950976851783]\n",
      "[-10.64486322768136,-17.106497317217887,-4.408843632543994]\n",
      "[-10.978624541074895,-17.386549301490493,-4.7852790827456975]\n",
      "[-11.280003177808544,-17.74347915135071,-5.093589985633224]\n",
      "[-11.632502236462892,-18.094136325999415,-5.396482641325294]\n",
      "[-11.966263549856423,-18.374188310272025,-5.772918091527204]\n",
      "[-12.267642186590075,-18.731118160132237,-6.081228994414795]\n",
      "[-12.62014124524442,-19.081775334780946,-6.38412165010693]\n",
      "[-12.953902558637955,-19.361827319053557,-6.760557100308745]\n",
      "[-13.255281195371607,-19.71875716891377,-7.0688680031963065]\n",
      "[-13.607780254025952,-20.069414343562478,-7.371760658888412]\n",
      "[-13.941541567419486,-20.34946632783509,-7.748196109090272]\n",
      "[-14.242920204153139,-20.7063961776953,-8.056507011977848]\n",
      "[-14.595419262807484,-21.05705335234401,-8.359399667669967]\n",
      "[-14.929180576201018,-21.33710533661662,-8.735835117871806]\n",
      "[-15.23055921293467,-21.69403518647683,-9.044146020759376]\n",
      "[-15.583058271589016,-22.04469236112554,-9.34703867645149]\n",
      "[-15.91681958498255,-22.324744345398152,-9.723474126653336]\n",
      "[-16.218198221716204,-22.681674195258363,-10.03178502954091]\n",
      "[-16.570697280370545,-23.032331369907073,-10.334677685233027]\n",
      "[-16.90445859376408,-23.312383354179683,-10.711113135434868]\n",
      "[-17.205837230497735,-23.669313204039895,-11.01942403832244]\n",
      "[-17.558336289152077,-24.019970378688605,-11.322316694014555]\n",
      "[-17.89209760254561,-24.300022362961215,-11.6987521442164]\n",
      "[-18.193476239279267,-24.656952212821427,-12.007063047103973]\n",
      "[-18.54597529793361,-25.007609387470136,-12.30995570279609]\n",
      "[-18.879736611327143,-25.287661371742747,-12.686391152997931]\n",
      "[-19.1811152480608,-25.64459122160296,-12.994702055885503]\n",
      "[-19.53361430671514,-25.995248396251668,-13.297594711577618]\n",
      "[-19.867375620108675,-26.27530038052428,-13.674030161779463]\n",
      "[-20.16875425684233,-26.63223023038449,-13.982341064667036]\n",
      "[-20.521253315496672,-26.9828874050332,-14.285233720359154]\n",
      "[-20.855014628890206,-27.26293938930581,-14.661669170560995]\n",
      "[-21.156393265623862,-27.61986923916602,-14.969980073448566]\n",
      "[-21.508892324278204,-27.97052641381473,-15.272872729140682]\n",
      "[-21.842653637671738,-28.25057839808734,-15.649308179342526]\n",
      "[-22.144032274405394,-28.607508247947553,-15.9576190822301]\n",
      "[-22.496531333059735,-28.958165422596263,-16.260511737922215]\n",
      "[-22.83029264645327,-29.238217406868873,-16.636947188124058]\n",
      "[-23.131671283186925,-29.595147256729085,-16.94525809101163]\n",
      "[-23.484170341841267,-29.945804431377795,-17.248150746703747]\n",
      "[-23.8179316552348,-30.225856415650405,-17.62458619690559]\n",
      "[-24.119310291968457,-30.582786265510617,-17.932897099793163]\n",
      "[-24.4718093506228,-30.933443440159326,-18.23578975548528]\n",
      "[-24.805570664016333,-31.213495424431937,-18.61222520568712]\n",
      "[-25.10694930074999,-31.57042527429215,-18.920536108574694]\n",
      "[-25.45944835940433,-31.921082448940858,-19.22342876426681]\n",
      "[-25.793209672797865,-32.20113443321347,-19.599864214468653]\n",
      "[-26.09458830953152,-32.55806428307368,-19.908175117356226]\n",
      "[-26.447087368185866,-32.90872145772239,-20.21106777304834]\n",
      "[-26.7808486815794,-33.188773441995004,-20.587503223250188]\n",
      "[-27.082227318313056,-33.54570329185522,-20.89581412613776]\n",
      "[-27.4347263769674,-33.89636046650393,-21.198706781829877]\n",
      "[-27.768487690360935,-34.17641245077654,-21.575142232031723]\n",
      "[-28.06986632709459,-34.533342300636754,-21.883453134919296]\n",
      "[-28.422365385748936,-34.883999475285464,-22.186345790611412]\n",
      "[-28.75612669914247,-35.164051459558074,-22.56278124081326]\n",
      "[-29.057505335876126,-35.52098130941829,-22.87109214370083]\n",
      "[-29.41000439453047,-35.871638484067,-23.173984799392947]\n",
      "[-29.743765707924005,-36.15169046833961,-23.550420249594794]\n",
      "[-30.04514434465766,-36.508620318199824,-23.858731152482367]\n",
      "[-30.397643403312006,-36.859277492848534,-24.161623808174483]\n",
      "[-30.73140471670554,-37.139329477121144,-24.53805925837633]\n",
      "[-31.032783353439196,-37.49625932698136,-24.846370161263902]\n",
      "[-31.38528241209354,-37.84691650163007,-25.149262816956018]\n",
      "[-31.719043725487076,-38.12696848590268,-25.525698267157864]\n",
      "[-32.02042236222073,-38.483898335762895,-25.834009170045437]\n",
      "[-32.37292142087508,-38.834555510411604,-26.136901825737553]\n",
      "[-32.70668273426861,-39.114607494684215,-26.5133372759394]\n",
      "[-33.00806137100226,-39.47153734454443,-26.821648178826972]\n",
      "[-33.360560429656616,-39.82219451919314,-27.124540834519088]\n",
      "[-33.694321743050146,-40.10224650346575,-27.500976284720934]\n",
      "[-33.9957003797838,-40.459176353325965,-27.809287187608508]\n",
      "[-34.34819943843815,-40.809833527974675,-28.112179843300623]\n",
      "[-34.68196075183168,-41.089885512247285,-28.48861529350247]\n",
      "[-34.983339388565334,-41.4468153621075,-28.796926196390043]\n",
      "[-35.335838447219686,-41.79747253675621,-29.09981885208216]\n",
      "[-35.66959976061322,-42.07752452102882,-29.476254302284005]\n",
      "[-35.97097839734687,-42.434454370889036,-29.784565205171578]\n",
      "[-36.32347745600122,-42.785111545537745,-30.087457860863694]\n",
      "[-36.65723876939475,-43.065163529810356,-30.46389331106554]\n",
      "[-36.958617406128404,-43.42209337967057,-30.772204213953113]\n",
      "[-37.31111646478276,-43.77275055431928,-31.07509686964523]\n",
      "[-37.64487777817629,-44.05280253859189,-31.451532319847075]\n",
      "[-37.94625641490994,-44.409732388452106,-31.75984322273465]\n",
      "[-38.29875547356429,-44.760389563100816,-32.062735878426764]\n",
      "[-38.63251678695782,-45.040441547373426,-32.43917132862861]\n",
      "[-38.933895423691474,-45.39737139723364,-32.74748223151618]\n",
      "[-39.28639448234583,-45.74802857188235,-33.05037488720829]\n",
      "[-39.62015579573936,-46.02808055615496,-33.426810337410146]\n",
      "[-39.92153443247301,-46.385010406015176,-33.735121240297715]\n",
      "[-40.27403349112736,-46.735667580663886,-34.038013895989835]\n",
      "[-40.60779480452089,-47.0157195649365,-34.41444934619168]\n",
      "[-40.909173441254545,-47.37264941479671,-34.72276024907925]\n",
      "[-41.2616724999089,-47.72330658944542,-35.02565290477136]\n",
      "[-41.59543381330243,-48.00335857371803,-35.402088354973216]\n",
      "[-41.89681245003608,-48.36028842357825,-35.710399257860786]\n",
      "[-42.24931150869043,-48.71094559822696,-36.013291913552905]\n",
      "[-42.58307282208396,-48.99099758249957,-36.38972736375475]\n",
      "[-42.884451458817615,-49.34792743235978,-36.69803826664232]\n",
      "[-43.23695051747197,-49.69858460700849,-37.00093092233443]\n",
      "[-43.5707118308655,-49.9786365912811,-37.37736637253629]\n",
      "[-43.87209046759915,-50.33556644114132,-37.685677275423856]\n",
      "[-44.2245895262535,-50.68622361579003,-37.988569931115975]\n",
      "[-44.558350839647034,-50.96627560006264,-38.36500538131782]\n",
      "[-44.859729476380686,-51.32320544992285,-38.67331628420539]\n",
      "[-45.21222853503504,-51.67386262457156,-38.976208939897504]\n",
      "[-45.54598984842857,-51.95391460884417,-39.35264439009936]\n",
      "[-45.84736848516222,-52.31084445870439,-39.66095529298693]\n",
      "[-46.19986754381657,-52.6615016333531,-39.963847948679046]\n",
      "[-46.533628857210104,-52.94155361762571,-40.34028339888089]\n",
      "[-46.835007493943756,-53.29848346748592,-40.64859430176846]\n",
      "[-47.18750655259811,-53.64914064213463,-40.951486957460574]\n",
      "[-47.52126786599164,-53.92919262640724,-41.32792240766243]\n",
      "[-47.82264650272529,-54.28612247626746,-41.63623331055]\n",
      "[-48.175145561379644,-54.63677965091617,-41.939125966242116]\n",
      "[-48.508906874773174,-54.91683163518878,-42.31556141644396]\n",
      "[-48.81028551150683,-55.27376148504899,-42.62387231933153]\n",
      "[-49.16278457016118,-55.6244186596977,-42.926764975023644]\n",
      "[-49.49654588355471,-55.90447064397031,-43.3032004252255]\n",
      "[-49.79792452028836,-56.26140049383053,-43.61151132811307]\n",
      "[-50.150423578942714,-56.61205766847924,-43.91440398380519]\n",
      "[-50.484184892336245,-56.89210965275185,-44.29083943400703]\n",
      "[-50.7855635290699,-57.249039502612064,-44.5991503368946]\n",
      "[-51.13806258772425,-57.59969667726077,-44.902042992586715]\n",
      "[-51.47182390111778,-57.879748661533384,-45.27847844278857]\n",
      "[-51.77320253785143,-58.2366785113936,-45.58678934567614]\n",
      "[-52.125701596505785,-58.58733568604231,-45.88968200136826]\n",
      "[-52.459462909899315,-58.86738767031492,-46.2661174515701]\n",
      "[-52.76084154663297,-59.224317520175134,-46.57442835445767]\n",
      "[-53.11334060528732,-59.574974694823844,-46.877321010149785]\n",
      "[-53.44710191868085,-59.855026679096454,-47.25375646035164]\n",
      "[-53.7484805554145,-60.21195652895667,-47.56206736323921]\n",
      "[-54.100979614068855,-60.56261370360538,-47.86496001893133]\n",
      "[-54.434740927462386,-60.84266568787799,-48.241395469133174]\n",
      "[-54.73611956419604,-61.199595537738205,-48.549706372020744]\n",
      "[-55.08861862285039,-61.550252712386914,-48.852599027712856]\n",
      "[-55.42237993624392,-61.830304696659525,-49.22903447791471]\n",
      "[-55.72375857297757,-62.18723454651974,-49.53734538080228]\n",
      "[-56.076257631631925,-62.53789172116845,-49.8402380364944]\n",
      "[-56.410018945025456,-62.81794370544106,-50.216673486696244]\n",
      "[-56.71139758175911,-63.174873555301275,-50.524984389583814]\n",
      "[-57.06389664041346,-63.525530729949985,-50.827877045275926]\n",
      "[-57.39765795380699,-63.805582714222595,-51.20431249547778]\n",
      "[-57.69903659054065,-64.1625125640828,-51.51262339836535]\n",
      "[-58.051535649194996,-64.5131697387315,-51.81551605405747]\n",
      "[-58.38529696258852,-64.79322172300411,-52.191951504259315]\n",
      "[-58.686675599322164,-65.15015157286432,-52.500262407146884]\n",
      "[-59.03917465797651,-65.50080874751302,-52.803155062839]\n",
      "[-59.37293597137003,-65.78086073178562,-53.17959051304083]\n",
      "[-59.67431460810368,-66.13779058164583,-53.48790141592839]\n",
      "[-60.026813666758024,-66.48844775629453,-53.790794071620496]\n",
      "[-60.36057498015155,-66.76849974056714,-54.16722952182234]\n",
      "[-60.66195361688519,-67.12542959042734,-54.47554042470991]\n",
      "[-61.01445267553954,-67.47608676507605,-54.778433080402024]\n",
      "[-61.34821398893306,-67.75613874934865,-55.154868530603856]\n",
      "[-61.649592625666706,-68.11306859920886,-55.46317943349142]\n",
      "[-62.00209168432105,-68.46372577385756,-55.766072089183524]\n",
      "[-62.335852997714575,-68.74377775813016,-56.14250753938537]\n",
      "[-62.63723163444822,-69.10070760799037,-56.45081844227294]\n",
      "[-62.989730693102565,-69.45136478263908,-56.75371109796505]\n",
      "[-63.32349200649609,-69.73141676691168,-57.130146548166884]\n",
      "[-63.624870643229734,-70.08834661677189,-57.43845745105445]\n",
      "[-63.97736970188408,-70.43900379142059,-57.74135010674655]\n",
      "[-64.31113101527761,-70.71905577569319,-58.1177855569484]\n",
      "[-64.61250965201125,-71.0759856255534,-58.42609645983597]\n",
      "[-64.96500871066559,-71.4266428002021,-58.72898911552808]\n",
      "[-65.29877002405912,-71.7066947844747,-59.10542456572991]\n",
      "[-65.60014866079277,-72.06362463433491,-59.41373546861748]\n",
      "[-65.9526477194471,-72.41428180898362,-59.716628124309594]\n",
      "[-66.28640903284064,-72.69433379325622,-60.093063574511426]\n",
      "[-66.58778766957428,-73.05126364311643,-60.401374477398996]\n",
      "[-66.94028672822861,-73.40192081776513,-60.70426713309111]\n",
      "[-67.27404804162215,-73.68197280203773,-61.08070258329294]\n",
      "[-67.5754266783558,-74.03890265189794,-61.38901348618051]\n",
      "[-67.92792573701013,-74.38955982654664,-61.69190614187262]\n",
      "[-68.26168705040367,-74.66961181081925,-62.068341592074454]\n",
      "[-68.56306568713731,-75.02654166067946,-62.37665249496202]\n",
      "[-68.91556474579164,-75.37719883532816,-62.679545150654135]\n",
      "[-69.24932605918518,-75.65725081960076,-63.05598060085597]\n",
      "[-69.55070469591882,-76.01418066946097,-63.36429150374354]\n",
      "[-69.90320375457316,-76.36483784410967,-63.66718415943565]\n",
      "[-70.2369650679667,-76.64488982838228,-64.04361960963749]\n",
      "[-70.53834370470034,-77.00181967824248,-64.35193051252506]\n",
      "[-70.89084276335467,-77.35247685289119,-64.65482316821716]\n",
      "[-71.22460407674821,-77.63252883716379,-65.031258618419]\n",
      "[-71.52598271348185,-77.989458687024,-65.33956952130657]\n",
      "[-71.87848177213618,-78.3401158616727,-65.64246217699868]\n",
      "[-72.21224308552972,-78.6201678459453,-66.01889762720052]\n",
      "[-72.51362172226337,-78.97709769580551,-66.32720853008809]\n",
      "[-72.8661207809177,-79.32775487045421,-66.63010118578019]\n",
      "[-73.19988209431123,-79.60780685472682,-67.00653663598203]\n",
      "[-73.50126073104488,-79.96473670458703,-67.3148475388696]\n",
      "[-73.85375978969921,-80.31539387923573,-67.6177401945617]\n",
      "[-74.18752110309275,-80.59544586350833,-67.99417564476354]\n",
      "[-74.4888997398264,-80.95237571336854,-68.30248654765111]\n",
      "[-74.84139879848072,-81.30303288801724,-68.60537920334322]\n",
      "[-75.17516011187426,-81.58308487228985,-68.98181465354506]\n",
      "[-75.47653874860791,-81.94001472215005,-69.29012555643263]\n",
      "[-75.82903780726224,-82.29067189679876,-69.59301821212473]\n",
      "[-76.16279912065578,-82.57072388107136,-69.96945366232657]\n",
      "[-76.46417775738942,-82.92765373093157,-70.27776456521414]\n",
      "[-76.81667681604375,-83.27831090558027,-70.58065722090625]\n",
      "[-77.15043812943729,-83.55836288985287,-70.95709267110809]\n",
      "[-77.45181676617094,-83.91529273971308,-71.26540357399566]\n",
      "[-77.80431582482527,-84.26594991436178,-71.56829622968776]\n",
      "[-78.1380771382188,-84.54600189863439,-71.9447316798896]\n",
      "[-78.43945577495245,-84.9029317484946,-72.25304258277717]\n",
      "[-78.79195483360678,-85.2535889231433,-72.55593523846927]\n",
      "[-79.12571614700032,-85.5336409074159,-72.93237068867111]\n",
      "[-79.42709478373396,-85.89057075727611,-73.24068159155868]\n",
      "[-79.7795938423883,-86.24122793192481,-73.54357424725079]\n",
      "[-80.11335515578183,-86.52127991619741,-73.92000969745263]\n",
      "[-80.41473379251548,-86.87820976605762,-74.2283206003402]\n",
      "[-80.76723285116981,-87.22886694070633,-74.5312132560323]\n",
      "[-81.10099416456335,-87.50891892497893,-74.90764870623414]\n",
      "[-81.40237280129699,-87.86584877483914,-75.21595960912171]\n",
      "[-81.75487185995132,-88.21650594948784,-75.51885226481382]\n",
      "[-82.08863317334486,-88.49655793376044,-75.89528771501566]\n",
      "[-82.3900118100785,-88.85348778362065,-76.20359861790322]\n",
      "[-82.74251086873284,-89.20414495826935,-76.50649127359533]\n",
      "[-83.07627218212637,-89.48419694254196,-76.88292672379717]\n",
      "[-83.37765081886002,-89.84112679240216,-77.19123762668474]\n",
      "[-83.73014987751435,-90.19178396705087,-77.49413028237684]\n",
      "[-84.06391119090789,-90.47183595132347,-77.87056573257868]\n",
      "[-84.36528982764153,-90.82876580118368,-78.17887663546625]\n",
      "[-84.71778888629586,-91.17942297583238,-78.48176929115836]\n",
      "[-85.0515501996894,-91.45947496010498,-78.8582047413602]\n",
      "[-85.35292883642305,-91.81640480996519,-79.16651564424777]\n",
      "[-85.70542789507738,-92.1670619846139,-79.46940829993987]\n",
      "[-86.03918920847092,-92.4471139688865,-79.84584375014171]\n",
      "[-86.34056784520456,-92.8040438187467,-80.15415465302928]\n",
      "[-86.69306690385889,-93.15470099339541,-80.45704730872139]\n",
      "[-87.02682821725243,-93.43475297766801,-80.83348275892322]\n",
      "[-87.32820685398607,-93.79168282752822,-81.1417936618108]\n",
      "[-87.6807059126404,-94.14234000217692,-81.4446863175029]\n",
      "[-88.01446722603394,-94.42239198644953,-81.82112176770474]\n",
      "[-88.31584586276759,-94.77932183630973,-82.12943267059231]\n",
      "[-88.66834492142192,-95.12997901095844,-82.43232532628441]\n",
      "[-89.00210623481546,-95.41003099523104,-82.80876077648625]\n",
      "[-89.3034848715491,-95.76696084509125,-83.11707167937382]\n",
      "[-89.65598393020343,-96.11761801973995,-83.41996433506593]\n",
      "[-89.98974524359697,-96.39767000401255,-83.79639978526777]\n",
      "[-90.29112388033062,-96.75459985387276,-84.10471068815534]\n",
      "[-90.64362293898495,-97.10525702852146,-84.40760334384744]\n",
      "[-90.97738425237849,-97.38530901279407,-84.78403879404928]\n",
      "[-91.27876288911213,-97.74223886265428,-85.09234969693685]\n",
      "[-91.63126194776646,-98.09289603730298,-85.39524235262896]\n",
      "[-91.96502326116,-98.37294802157558,-85.7716778028308]\n",
      "[-92.26640189789364,-98.72987787143579,-86.07998870571836]\n",
      "[-92.61890095654798,-99.08053504608449,-86.38288136141047]\n",
      "[-92.95266226994151,-99.3605870303571,-86.75931681161231]\n",
      "[-93.25404090667516,-99.7175168802173,-87.06762771449988]\n",
      "[-93.60653996532949,-100.068174054866,-87.37052037019198]\n",
      "[-93.94030127872303,-100.34822603913861,-87.74695582039382]\n",
      "[-94.24167991545667,-100.70515588899882,-88.05526672328139]\n",
      "[-94.594178974111,-101.05581306364752,-88.3581593789735]\n",
      "[-94.92794028750454,-101.33586504792012,-88.73459482917534]\n",
      "[-95.22931892423819,-101.69279489778033,-89.0429057320629]\n",
      "[-95.58181798289252,-102.04345207242903,-89.34579838775501]\n",
      "[-95.91557929628605,-102.32350405670164,-89.72223383795685]\n",
      "[-96.2169579330197,-102.68043390656184,-90.03054474084442]\n",
      "[-96.56945699167403,-103.03109108121055,-90.33343739653652]\n",
      "[-96.90321830506757,-103.31114306548315,-90.70987284673836]\n",
      "[-97.20459694180121,-103.66807291534336,-91.01818374962593]\n"
     ]
    }
   ],
   "source": [
    "Taypos(X0, L, Τ, V,tf,ϵ)"
   ]
  },
  {
   "cell_type": "code",
   "execution_count": null,
   "metadata": {
    "collapsed": true
   },
   "outputs": [],
   "source": []
  }
 ],
 "metadata": {
  "kernelspec": {
   "display_name": "Julia 0.4.1",
   "language": "julia",
   "name": "julia-0.4"
  },
  "language_info": {
   "file_extension": ".jl",
   "mimetype": "application/julia",
   "name": "julia",
   "version": "0.4.1"
  }
 },
 "nbformat": 4,
 "nbformat_minor": 0
}
