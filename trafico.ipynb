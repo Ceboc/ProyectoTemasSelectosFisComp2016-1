{
 "cells": [
  {
   "cell_type": "markdown",
   "metadata": {},
   "source": [
    "# Simulación del tráfico en un carril."
   ]
  },
  {
   "cell_type": "markdown",
   "metadata": {},
   "source": [
    "Primero se simulará para dos carros. La ecuación que simulará la velocidad de los vehículos es el mínimo entre\n",
    "\n",
    "$$\\dot{x_i} = \\frac{1}{T_i}(x_{i-1}-x_i -\\frac{l_i + l_{i-1}}{2}) \n",
    "$$ \n",
    "\n",
    "y\n",
    "\n",
    "$$ \\dot{x_i} = v_{max_{i}} $$"
   ]
  },
  {
   "cell_type": "code",
   "execution_count": 2,
   "metadata": {
    "collapsed": false
   },
   "outputs": [
    {
     "name": "stderr",
     "output_type": "stream",
     "text": [
      "WARNING: Union(args...) is deprecated, use Union{args...} instead.\n",
      " in depwarn at deprecated.jl:73\n",
      " in call at deprecated.jl:50\n",
      " [inlined code] from /home/windie/.julia/v0.4/TaylorSeries/src/Taylor1.jl:127\n",
      " in anonymous at no file:0\n",
      " in include_string at loading.jl:266\n",
      " in execute_request_0x535c5df2 at /home/windie/.julia/v0.4/IJulia/src/execute_request.jl:177\n",
      " in eventloop at /home/windie/.julia/v0.4/IJulia/src/IJulia.jl:141\n",
      " in anonymous at task.jl:447\n",
      "while loading /home/windie/.julia/v0.4/TaylorSeries/src/Taylor1.jl, in expression starting on line 143\n",
      "WARNING: Union(args...) is deprecated, use Union{args...} instead.\n",
      " in depwarn at deprecated.jl:73\n",
      " in call at deprecated.jl:50\n",
      " [inlined code] from /home/windie/.julia/v0.4/TaylorSeries/src/Taylor1.jl:127\n",
      " in anonymous at no file:0\n",
      " in include_string at loading.jl:266\n",
      " in execute_request_0x535c5df2 at /home/windie/.julia/v0.4/IJulia/src/execute_request.jl:177\n",
      " in eventloop at /home/windie/.julia/v0.4/IJulia/src/IJulia.jl:141\n",
      " in anonymous at task.jl:447\n",
      "while loading /home/windie/.julia/v0.4/TaylorSeries/src/Taylor1.jl, in expression starting on line 152\n",
      "WARNING: Union(args...) is deprecated, use Union{args...} instead.\n",
      " in depwarn at deprecated.jl:73\n",
      " in call at deprecated.jl:50\n",
      " [inlined code] from /home/windie/.julia/v0.4/TaylorSeries/src/Taylor1.jl:127\n",
      " in anonymous at no file:0\n",
      " in include_string at loading.jl:266\n",
      " in execute_request_0x535c5df2 at /home/windie/.julia/v0.4/IJulia/src/execute_request.jl:177\n",
      " in eventloop at /home/windie/.julia/v0.4/IJulia/src/IJulia.jl:141\n",
      " in anonymous at task.jl:447\n",
      "while loading /home/windie/.julia/v0.4/TaylorSeries/src/Taylor1.jl, in expression starting on line 143\n",
      "WARNING: Union(args...) is deprecated, use Union{args...} instead.\n",
      " in depwarn at deprecated.jl:73\n",
      " in call at deprecated.jl:50\n",
      " [inlined code] from /home/windie/.julia/v0.4/TaylorSeries/src/Taylor1.jl:127\n",
      " in anonymous at no file:0\n",
      " in include_string at loading.jl:266\n",
      " in execute_request_0x535c5df2 at /home/windie/.julia/v0.4/IJulia/src/execute_request.jl:177\n",
      " in eventloop at /home/windie/.julia/v0.4/IJulia/src/IJulia.jl:141\n",
      " in anonymous at task.jl:447\n",
      "while loading /home/windie/.julia/v0.4/TaylorSeries/src/Taylor1.jl, in expression starting on line 152\n",
      "WARNING: Union(args...) is deprecated, use Union{args...} instead.\n",
      " in depwarn at deprecated.jl:73\n",
      " in call at deprecated.jl:50\n",
      " in include_string at loading.jl:266\n",
      " in execute_request_0x535c5df2 at /home/windie/.julia/v0.4/IJulia/src/execute_request.jl:177\n",
      " in eventloop at /home/windie/.julia/v0.4/IJulia/src/IJulia.jl:141\n",
      " in anonymous at task.jl:447\n",
      "while loading /home/windie/.julia/v0.4/TaylorSeries/src/Taylor1.jl, in expression starting on line 167\n",
      "WARNING: Union(args...) is deprecated, use Union{args...} instead.\n",
      " in depwarn at deprecated.jl:73\n",
      " in call at deprecated.jl:50\n",
      " in include_string at loading.jl:266\n",
      " in execute_request_0x535c5df2 at /home/windie/.julia/v0.4/IJulia/src/execute_request.jl:177\n",
      " in eventloop at /home/windie/.julia/v0.4/IJulia/src/IJulia.jl:141\n",
      " in anonymous at task.jl:447\n",
      "while loading /home/windie/.julia/v0.4/TaylorSeries/src/Taylor1.jl, in expression starting on line 175\n",
      "WARNING: Base.String is deprecated, use AbstractString instead.\n",
      "  likely near /home/windie/.julia/v0.4/TaylorSeries/src/parameters.jl:42\n",
      "WARNING: Base.String is deprecated, use AbstractString instead.\n",
      "  likely near /home/windie/.julia/v0.4/TaylorSeries/src/parameters.jl:47\n",
      "WARNING: Base.String is deprecated, use AbstractString instead.\n",
      "  likely near /home/windie/.julia/v0.4/TaylorSeries/src/parameters.jl:47\n",
      "WARNING: Base.String is deprecated, use AbstractString instead.\n",
      "  likely near /home/windie/.julia/v0.4/TaylorSeries/src/parameters.jl:47\n",
      "WARNING: Base.String is deprecated, use AbstractString instead.\n",
      "  likely near /home/windie/.julia/v0.4/TaylorSeries/src/parameters.jl:434\n",
      "WARNING: Base.String is deprecated, use AbstractString instead.\n",
      "  likely near /home/windie/.julia/v0.4/TaylorSeries/src/parameters.jl:78\n",
      "WARNING: Base.String is deprecated, use AbstractString instead.\n",
      "  likely near /home/windie/.julia/v0.4/TaylorSeries/src/parameters.jl:78\n",
      "WARNING: Base.String is deprecated, use AbstractString instead.\n",
      "  likely near /home/windie/.julia/v0.4/TaylorSeries/src/parameters.jl:78\n",
      "WARNING: Base.String is deprecated, use AbstractString instead.\n",
      "  likely near /home/windie/.julia/v0.4/TaylorSeries/src/parameters.jl:89\n",
      "WARNING: Base.String is deprecated, use AbstractString instead.\n",
      "  likely near /home/windie/.julia/v0.4/TaylorSeries/src/parameters.jl:89\n",
      "WARNING: Base.String is deprecated, use AbstractString instead.\n",
      "  likely near /home/windie/.julia/v0.4/TaylorSeries/src/parameters.jl:89\n",
      "WARNING: Union(args...) is deprecated, use Union{args...} instead.\n",
      " in depwarn at deprecated.jl:73\n",
      " in call at deprecated.jl:50\n",
      " in include_string at loading.jl:266\n",
      " in execute_request_0x535c5df2 at /home/windie/.julia/v0.4/IJulia/src/execute_request.jl:177\n",
      " in eventloop at /home/windie/.julia/v0.4/IJulia/src/IJulia.jl:141\n",
      " in anonymous at task.jl:447\n",
      "while loading /home/windie/.julia/v0.4/TaylorSeries/src/TaylorN.jl, in expression starting on line 129\n",
      "WARNING: Union(args...) is deprecated, use Union{args...} instead.\n",
      " in depwarn at deprecated.jl:73\n",
      " in call at deprecated.jl:50\n",
      " [inlined code] from /home/windie/.julia/v0.4/TaylorSeries/src/TaylorN.jl:311\n",
      " in anonymous at no file:0\n",
      " in include_string at loading.jl:266\n",
      " in execute_request_0x535c5df2 at /home/windie/.julia/v0.4/IJulia/src/execute_request.jl:177\n",
      " in eventloop at /home/windie/.julia/v0.4/IJulia/src/IJulia.jl:141\n",
      " in anonymous at task.jl:447\n",
      "while loading /home/windie/.julia/v0.4/TaylorSeries/src/TaylorN.jl, in expression starting on line 312\n",
      "WARNING: Union(args...) is deprecated, use Union{args...} instead.\n",
      " in depwarn at deprecated.jl:73\n",
      " in call at deprecated.jl:50\n",
      " [inlined code] from /home/windie/.julia/v0.4/TaylorSeries/src/TaylorN.jl:311\n",
      " in anonymous at no file:0\n",
      " in include_string at loading.jl:266\n",
      " in execute_request_0x535c5df2 at /home/windie/.julia/v0.4/IJulia/src/execute_request.jl:177\n",
      " in eventloop at /home/windie/.julia/v0.4/IJulia/src/IJulia.jl:141\n",
      " in anonymous at task.jl:447\n",
      "while loading /home/windie/.julia/v0.4/TaylorSeries/src/TaylorN.jl, in expression starting on line 322\n",
      "WARNING: Union(args...) is deprecated, use Union{args...} instead.\n",
      " in depwarn at deprecated.jl:73\n",
      " in call at deprecated.jl:50\n",
      " [inlined code] from /home/windie/.julia/v0.4/TaylorSeries/src/TaylorN.jl:311\n",
      " in anonymous at no file:0\n",
      " in include_string at loading.jl:266\n",
      " in execute_request_0x535c5df2 at /home/windie/.julia/v0.4/IJulia/src/execute_request.jl:177\n",
      " in eventloop at /home/windie/.julia/v0.4/IJulia/src/IJulia.jl:141\n",
      " in anonymous at task.jl:447\n",
      "while loading /home/windie/.julia/v0.4/TaylorSeries/src/TaylorN.jl, in expression starting on line 312\n",
      "WARNING: Union(args...) is deprecated, use Union{args...} instead.\n",
      " in depwarn at deprecated.jl:73\n",
      " in call at deprecated.jl:50\n",
      " [inlined code] from /home/windie/.julia/v0.4/TaylorSeries/src/TaylorN.jl:311\n",
      " in anonymous at no file:0\n",
      " in include_string at loading.jl:266\n",
      " in execute_request_0x535c5df2 at /home/windie/.julia/v0.4/IJulia/src/execute_request.jl:177\n",
      " in eventloop at /home/windie/.julia/v0.4/IJulia/src/IJulia.jl:141\n",
      " in anonymous at task.jl:447\n",
      "while loading /home/windie/.julia/v0.4/TaylorSeries/src/TaylorN.jl, in expression starting on line 322\n",
      "WARNING: Union(args...) is deprecated, use Union{args...} instead.\n",
      " in depwarn at deprecated.jl:73\n",
      " in call at deprecated.jl:50\n",
      " in include_string at loading.jl:266\n",
      " in execute_request_0x535c5df2 at /home/windie/.julia/v0.4/IJulia/src/execute_request.jl:177\n",
      " in eventloop at /home/windie/.julia/v0.4/IJulia/src/IJulia.jl:141\n",
      " in anonymous at task.jl:447\n",
      "while loading /home/windie/.julia/v0.4/TaylorSeries/src/TaylorN.jl, in expression starting on line 369\n",
      "WARNING: Union(args...) is deprecated, use Union{args...} instead.\n",
      " in depwarn at deprecated.jl:73\n",
      " in call at deprecated.jl:50\n",
      " in include_string at loading.jl:266\n",
      " in execute_request_0x535c5df2 at /home/windie/.julia/v0.4/IJulia/src/execute_request.jl:177\n",
      " in eventloop at /home/windie/.julia/v0.4/IJulia/src/IJulia.jl:141\n",
      " in anonymous at task.jl:447\n",
      "while loading /home/windie/.julia/v0.4/TaylorSeries/src/TaylorN.jl, in expression starting on line 378\n",
      "WARNING: Union(args...) is deprecated, use Union{args...} instead.\n",
      " in depwarn at deprecated.jl:73\n",
      " in call at deprecated.jl:50\n",
      " in include_string at loading.jl:266\n",
      " in execute_request_0x535c5df2 at /home/windie/.julia/v0.4/IJulia/src/execute_request.jl:177\n",
      " in eventloop at /home/windie/.julia/v0.4/IJulia/src/IJulia.jl:141\n",
      " in anonymous at task.jl:447\n",
      "while loading /home/windie/.julia/v0.4/TaylorSeries/src/TaylorN.jl, in expression starting on line 383\n",
      "WARNING: Union(args...) is deprecated, use Union{args...} instead.\n",
      " in depwarn at deprecated.jl:73\n",
      " in call at deprecated.jl:50\n",
      " in include_string at loading.jl:266\n",
      " in execute_request_0x535c5df2 at /home/windie/.julia/v0.4/IJulia/src/execute_request.jl:177\n",
      " in eventloop at /home/windie/.julia/v0.4/IJulia/src/IJulia.jl:141\n",
      " in anonymous at task.jl:447\n",
      "while loading /home/windie/.julia/v0.4/TaylorSeries/src/TaylorN.jl, in expression starting on line 392\n",
      "WARNING: Union(args...) is deprecated, use Union{args...} instead.\n",
      " in depwarn at deprecated.jl:73\n",
      " in call at deprecated.jl:50\n",
      " in include_string at loading.jl:266\n",
      " in execute_request_0x535c5df2 at /home/windie/.julia/v0.4/IJulia/src/execute_request.jl:177\n",
      " in eventloop at /home/windie/.julia/v0.4/IJulia/src/IJulia.jl:141\n",
      " in anonymous at task.jl:447\n",
      "while loading /home/windie/.julia/v0.4/TaylorSeries/src/TaylorN.jl, in expression starting on line 845\n",
      "WARNING: Union(args...) is deprecated, use Union{args...} instead.\n",
      " in depwarn at deprecated.jl:73\n",
      " in call at deprecated.jl:50\n",
      " in include_string at loading.jl:266\n",
      " in execute_request_0x535c5df2 at /home/windie/.julia/v0.4/IJulia/src/execute_request.jl:177\n",
      " in eventloop at /home/windie/.julia/v0.4/IJulia/src/IJulia.jl:141\n",
      " in anonymous at task.jl:447\n",
      "while loading /home/windie/.julia/v0.4/TaylorSeries/src/TaylorN.jl, in expression starting on line 860\n",
      "WARNING: Union(args...) is deprecated, use Union{args...} instead.\n",
      " in depwarn at deprecated.jl:73\n",
      " in call at deprecated.jl:50\n",
      " in include_string at loading.jl:266\n",
      " in execute_request_0x535c5df2 at /home/windie/.julia/v0.4/IJulia/src/execute_request.jl:177\n",
      " in eventloop at /home/windie/.julia/v0.4/IJulia/src/IJulia.jl:141\n",
      " in anonymous at task.jl:447\n",
      "while loading /home/windie/.julia/v0.4/TaylorSeries/src/TaylorN.jl, in expression starting on line 879\n",
      "WARNING: Union(args...) is deprecated, use Union{args...} instead.\n",
      " in depwarn at deprecated.jl:73\n",
      " in call at deprecated.jl:50\n",
      " in include_string at loading.jl:266\n",
      " in execute_request_0x535c5df2 at /home/windie/.julia/v0.4/IJulia/src/execute_request.jl:177\n",
      " in eventloop at /home/windie/.julia/v0.4/IJulia/src/IJulia.jl:141\n",
      " in anonymous at task.jl:447\n",
      "while loading /home/windie/.julia/v0.4/TaylorSeries/src/TaylorN.jl, in expression starting on line 914\n",
      "WARNING: Union(args...) is deprecated, use Union{args...} instead.\n",
      " in depwarn at deprecated.jl:73\n",
      " in call at deprecated.jl:50\n",
      " in include_string at loading.jl:266\n",
      " in execute_request_0x535c5df2 at /home/windie/.julia/v0.4/IJulia/src/execute_request.jl:177\n",
      " in eventloop at /home/windie/.julia/v0.4/IJulia/src/IJulia.jl:141\n",
      " in anonymous at task.jl:447\n",
      "while loading /home/windie/.julia/v0.4/TaylorSeries/src/printing.jl, in expression starting on line 149\n",
      "WARNING: Union(args...) is deprecated, use Union{args...} instead.\n",
      " in depwarn at deprecated.jl:73\n",
      " in call at deprecated.jl:50\n",
      " in include_string at loading.jl:266\n",
      " in execute_request_0x535c5df2 at /home/windie/.julia/v0.4/IJulia/src/execute_request.jl:177\n",
      " in eventloop at /home/windie/.julia/v0.4/IJulia/src/IJulia.jl:141\n",
      " in anonymous at task.jl:447\n",
      "while loading /home/windie/.julia/v0.4/TaylorSeries/src/printing.jl, in expression starting on line 154\n"
     ]
    }
   ],
   "source": [
    "#Llamando al paquete de Taylor\n",
    "\n",
    "using TaylorSeries"
   ]
  },
  {
   "cell_type": "code",
   "execution_count": 3,
   "metadata": {
    "collapsed": false
   },
   "outputs": [],
   "source": [
    "#Definiendo parámetros. Sólo para fijar ideas.\n",
    "\n",
    "x1_0 = 0;\n",
    "x2_0 = pi;\n",
    "l1 = pi/16;\n",
    "l2 = l1;\n",
    "V1 = pi/4;\n",
    "V2 = pi/2;\n",
    "\n"
   ]
  },
  {
   "cell_type": "markdown",
   "metadata": {},
   "source": [
    "A continuación se escribe la función `modulo2pi` que encuentra la diferencia entre dos ángulos en módulo 2$\\pi$"
   ]
  },
  {
   "cell_type": "code",
   "execution_count": 4,
   "metadata": {
    "collapsed": false
   },
   "outputs": [
    {
     "data": {
      "text/plain": [
       "modulo2pi (generic function with 1 method)"
      ]
     },
     "execution_count": 4,
     "metadata": {},
     "output_type": "execute_result"
    }
   ],
   "source": [
    "function modulo2pi(α,β)\n",
    "    #Esta función calcula la diferencia entre dos ángulos y la devuelve \n",
    "    #módulo 2π.\n",
    "    δ=α-β \n",
    "    \n",
    "    if δ<0\n",
    "        δ = 2π + δ\n",
    "    else \n",
    "        δ = δ \n",
    "    end\n",
    "    \n",
    "    return δ\n",
    "end"
   ]
  },
  {
   "cell_type": "code",
   "execution_count": 20,
   "metadata": {
    "collapsed": false
   },
   "outputs": [
    {
     "data": {
      "text/plain": [
       "velocidad_max (generic function with 1 method)"
      ]
     },
     "execution_count": 20,
     "metadata": {},
     "output_type": "execute_result"
    }
   ],
   "source": [
    "#La siguiente función calula el mínimo entre la velocidad máxima y la velocidad de seguridad\n",
    "\n",
    "function velocidad_sec(T, car, frontcar, lfcar)\n",
    "    \n",
    "    vel = 1/T * modulo2pi(frontcar - lfcar, car);# Esta es la velocidad de seguridad\n",
    "    \n",
    "    return vel\n",
    "end\n",
    "\n",
    "function velocidad_max(vmax)\n",
    "    \n",
    "    vel = vmax\n",
    "    \n",
    "    return vel\n",
    "end\n"
   ]
  },
  {
   "cell_type": "markdown",
   "metadata": {},
   "source": [
    "Ahora se definen un par de variables tipo `Taylor1` que tendrá información de las series de taylor de las funciones $x_1 (t)$ y $x_2 (t)$."
   ]
  },
  {
   "cell_type": "code",
   "execution_count": 5,
   "metadata": {
    "collapsed": false
   },
   "outputs": [],
   "source": [
    "x1 = taylor1_variable(Float64, 20);\n",
    "x2 = taylor1_variable(Float64, 20);"
   ]
  },
  {
   "cell_type": "markdown",
   "metadata": {
    "collapsed": false
   },
   "source": [
    "Se le asignarán las condiciones iniciales a las funciones, esto es, los términos constantes en la serie. Los coeficientes de la parte lineal se hacen cero, porque empiezan como 1."
   ]
  },
  {
   "cell_type": "code",
   "execution_count": 10,
   "metadata": {
    "collapsed": false
   },
   "outputs": [],
   "source": [
    "x1.coeffs[1] = x1_0;\n",
    "x1.coeffs[2] = 0;\n",
    "x2.coeffs[1] = x2_0;\n",
    "x2.coeffs[2] = 0;"
   ]
  },
  {
   "cell_type": "markdown",
   "metadata": {
    "collapsed": true
   },
   "source": [
    "Ahora, a encontrar los siguientes coeficientes. Usando que $$ x_{n+1} = f_n /(n+1) $$"
   ]
  },
  {
   "cell_type": "code",
   "execution_count": 22,
   "metadata": {
    "collapsed": false
   },
   "outputs": [
    {
     "ename": "LoadError",
     "evalue": "LoadError: MethodError: `velocidad_sec` has no method matching velocidad_sec(::TaylorSeries.Taylor1{Float64})\nClosest candidates are:\n  velocidad_sec(::Any, !Matched::Any, !Matched::Any, !Matched::Any)\nwhile loading In[22], in expression starting on line 1",
     "output_type": "error",
     "traceback": [
      "LoadError: MethodError: `velocidad_sec` has no method matching velocidad_sec(::TaylorSeries.Taylor1{Float64})\nClosest candidates are:\n  velocidad_sec(::Any, !Matched::Any, !Matched::Any, !Matched::Any)\nwhile loading In[22], in expression starting on line 1",
      ""
     ]
    }
   ],
   "source": [
    "velocidad_sec(x1)"
   ]
  },
  {
   "cell_type": "code",
   "execution_count": null,
   "metadata": {
    "collapsed": true
   },
   "outputs": [],
   "source": []
  }
 ],
 "metadata": {
  "kernelspec": {
   "display_name": "Julia 0.4.1",
   "language": "julia",
   "name": "julia-0.4"
  },
  "language_info": {
   "file_extension": ".jl",
   "mimetype": "application/julia",
   "name": "julia",
   "version": "0.4.1"
  }
 },
 "nbformat": 4,
 "nbformat_minor": 0
}
