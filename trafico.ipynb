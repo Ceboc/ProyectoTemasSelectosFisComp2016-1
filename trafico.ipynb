{
 "cells": [
  {
   "cell_type": "markdown",
   "metadata": {},
   "source": [
    "# Simulación del tráfico en un carril."
   ]
  },
  {
   "cell_type": "markdown",
   "metadata": {},
   "source": [
    "Primero se simulará para dos carros. La ecuación que simulará la velocidad de los vehículos es el mínimo entre\n",
    "\n",
    "$$\\dot{x_i} = \\frac{1}{T_i}(x_{i-1}-x_i -\\frac{l_i + l_{i-1}}{2}) \n",
    "$$ \n",
    "\n",
    "y\n",
    "\n",
    "$$ \\dot{x_i} = v_{max_{i}} $$"
   ]
  },
  {
   "cell_type": "code",
   "execution_count": 1,
   "metadata": {
    "collapsed": false
   },
   "outputs": [
    {
     "name": "stderr",
     "output_type": "stream",
     "text": [
      "WARNING: Union(args...) is deprecated, use Union{args...} instead.\n",
      " in depwarn at deprecated.jl:73\n",
      " in call at deprecated.jl:50\n",
      " [inlined code] from /home/csar/.julia/v0.4/TaylorSeries/src/Taylor1.jl:127\n",
      " in anonymous at no file:0\n",
      " in include at ./boot.jl:261\n",
      " in include_from_node1 at ./loading.jl:304\n",
      " in include at ./boot.jl:261\n",
      " in include_from_node1 at ./loading.jl:304\n",
      " in require at ./loading.jl:243\n",
      " in include_string at loading.jl:266\n",
      " in execute_request_0x535c5df2 at /home/csar/.julia/v0.4/IJulia/src/execute_request.jl:177\n",
      " in eventloop at /home/csar/.julia/v0.4/IJulia/src/IJulia.jl:141\n",
      " in anonymous at task.jl:447\n",
      "while loading /home/csar/.julia/v0.4/TaylorSeries/src/Taylor1.jl, in expression starting on line 143\n",
      "WARNING: Union(args...) is deprecated, use Union{args...} instead.\n",
      " in depwarn at deprecated.jl:73\n",
      " in call at deprecated.jl:50\n",
      " [inlined code] from /home/csar/.julia/v0.4/TaylorSeries/src/Taylor1.jl:127\n",
      " in anonymous at no file:0\n",
      " in include at ./boot.jl:261\n",
      " in include_from_node1 at ./loading.jl:304\n",
      " in include at ./boot.jl:261\n",
      " in include_from_node1 at ./loading.jl:304\n",
      " in require at ./loading.jl:243\n",
      " in include_string at loading.jl:266\n",
      " in execute_request_0x535c5df2 at /home/csar/.julia/v0.4/IJulia/src/execute_request.jl:177\n",
      " in eventloop at /home/csar/.julia/v0.4/IJulia/src/IJulia.jl:141\n",
      " in anonymous at task.jl:447\n",
      "while loading /home/csar/.julia/v0.4/TaylorSeries/src/Taylor1.jl, in expression starting on line 152\n",
      "WARNING: Union(args...) is deprecated, use Union{args...} instead.\n",
      " in depwarn at deprecated.jl:73\n",
      " in call at deprecated.jl:50\n",
      " [inlined code] from /home/csar/.julia/v0.4/TaylorSeries/src/Taylor1.jl:127\n",
      " in anonymous at no file:0\n",
      " in include at ./boot.jl:261\n",
      " in include_from_node1 at ./loading.jl:304\n",
      " in include at ./boot.jl:261\n",
      " in include_from_node1 at ./loading.jl:304\n",
      " in require at ./loading.jl:243\n",
      " in include_string at loading.jl:266\n",
      " in execute_request_0x535c5df2 at /home/csar/.julia/v0.4/IJulia/src/execute_request.jl:177\n",
      " in eventloop at /home/csar/.julia/v0.4/IJulia/src/IJulia.jl:141\n",
      " in anonymous at task.jl:447\n",
      "while loading /home/csar/.julia/v0.4/TaylorSeries/src/Taylor1.jl, in expression starting on line 143\n",
      "WARNING: Union(args...) is deprecated, use Union{args...} instead.\n",
      " in depwarn at deprecated.jl:73\n",
      " in call at deprecated.jl:50\n",
      " [inlined code] from /home/csar/.julia/v0.4/TaylorSeries/src/Taylor1.jl:127\n",
      " in anonymous at no file:0\n",
      " in include at ./boot.jl:261\n",
      " in include_from_node1 at ./loading.jl:304\n",
      " in include at ./boot.jl:261\n",
      " in include_from_node1 at ./loading.jl:304\n",
      " in require at ./loading.jl:243\n",
      " in include_string at loading.jl:266\n",
      " in execute_request_0x535c5df2 at /home/csar/.julia/v0.4/IJulia/src/execute_request.jl:177\n",
      " in eventloop at /home/csar/.julia/v0.4/IJulia/src/IJulia.jl:141\n",
      " in anonymous at task.jl:447\n",
      "while loading /home/csar/.julia/v0.4/TaylorSeries/src/Taylor1.jl, in expression starting on line 152\n",
      "WARNING: Union(args...) is deprecated, use Union{args...} instead.\n",
      " in depwarn at deprecated.jl:73\n",
      " in call at deprecated.jl:50\n",
      " in include at ./boot.jl:261\n",
      " in include_from_node1 at ./loading.jl:304\n",
      " in include at ./boot.jl:261\n",
      " in include_from_node1 at ./loading.jl:304\n",
      " in require at ./loading.jl:243\n",
      " in include_string at loading.jl:266\n",
      " in execute_request_0x535c5df2 at /home/csar/.julia/v0.4/IJulia/src/execute_request.jl:177\n",
      " in eventloop at /home/csar/.julia/v0.4/IJulia/src/IJulia.jl:141\n",
      " in anonymous at task.jl:447\n",
      "while loading /home/csar/.julia/v0.4/TaylorSeries/src/Taylor1.jl, in expression starting on line 167\n",
      "WARNING: Union(args...) is deprecated, use Union{args...} instead.\n",
      " in depwarn at deprecated.jl:73\n",
      " in call at deprecated.jl:50\n",
      " in include at ./boot.jl:261\n",
      " in include_from_node1 at ./loading.jl:304\n",
      " in include at ./boot.jl:261\n",
      " in include_from_node1 at ./loading.jl:304\n",
      " in require at ./loading.jl:243\n",
      " in include_string at loading.jl:266\n",
      " in execute_request_0x535c5df2 at /home/csar/.julia/v0.4/IJulia/src/execute_request.jl:177\n",
      " in eventloop at /home/csar/.julia/v0.4/IJulia/src/IJulia.jl:141\n",
      " in anonymous at task.jl:447\n",
      "while loading /home/csar/.julia/v0.4/TaylorSeries/src/Taylor1.jl, in expression starting on line 175\n",
      "WARNING: Base.String is deprecated, use AbstractString instead.\n",
      "  likely near /home/csar/.julia/v0.4/TaylorSeries/src/parameters.jl:42\n",
      "WARNING: Base.String is deprecated, use AbstractString instead.\n",
      "  likely near /home/csar/.julia/v0.4/TaylorSeries/src/parameters.jl:47\n",
      "WARNING: Base.String is deprecated, use AbstractString instead.\n",
      "  likely near /home/csar/.julia/v0.4/TaylorSeries/src/parameters.jl:47\n",
      "WARNING: Base.String is deprecated, use AbstractString instead.\n",
      "  likely near /home/csar/.julia/v0.4/TaylorSeries/src/parameters.jl:47\n",
      "WARNING: Base.String is deprecated, use AbstractString instead.\n",
      "  likely near /home/csar/.julia/v0.4/TaylorSeries/src/parameters.jl:434\n",
      "WARNING: Base.String is deprecated, use AbstractString instead.\n",
      "  likely near /home/csar/.julia/v0.4/TaylorSeries/src/parameters.jl:78\n",
      "WARNING: Base.String is deprecated, use AbstractString instead.\n",
      "  likely near /home/csar/.julia/v0.4/TaylorSeries/src/parameters.jl:78\n",
      "WARNING: Base.String is deprecated, use AbstractString instead.\n",
      "  likely near /home/csar/.julia/v0.4/TaylorSeries/src/parameters.jl:78\n",
      "WARNING: Base.String is deprecated, use AbstractString instead.\n",
      "  likely near /home/csar/.julia/v0.4/TaylorSeries/src/parameters.jl:89\n",
      "WARNING: Base.String is deprecated, use AbstractString instead.\n",
      "  likely near /home/csar/.julia/v0.4/TaylorSeries/src/parameters.jl:89\n",
      "WARNING: Base.String is deprecated, use AbstractString instead.\n",
      "  likely near /home/csar/.julia/v0.4/TaylorSeries/src/parameters.jl:89\n",
      "WARNING: Union(args...) is deprecated, use Union{args...} instead.\n",
      " in depwarn at deprecated.jl:73\n",
      " in call at deprecated.jl:50\n",
      " in include at ./boot.jl:261\n",
      " in include_from_node1 at ./loading.jl:304\n",
      " in include at ./boot.jl:261\n",
      " in include_from_node1 at ./loading.jl:304\n",
      " in require at ./loading.jl:243\n",
      " in include_string at loading.jl:266\n",
      " in execute_request_0x535c5df2 at /home/csar/.julia/v0.4/IJulia/src/execute_request.jl:177\n",
      " in eventloop at /home/csar/.julia/v0.4/IJulia/src/IJulia.jl:141\n",
      " in anonymous at task.jl:447\n",
      "while loading /home/csar/.julia/v0.4/TaylorSeries/src/TaylorN.jl, in expression starting on line 129\n",
      "WARNING: Union(args...) is deprecated, use Union{args...} instead.\n",
      " in depwarn at deprecated.jl:73\n",
      " in call at deprecated.jl:50\n",
      " [inlined code] from /home/csar/.julia/v0.4/TaylorSeries/src/TaylorN.jl:311\n",
      " in anonymous at no file:0\n",
      " in include at ./boot.jl:261\n",
      " in include_from_node1 at ./loading.jl:304\n",
      " in include at ./boot.jl:261\n",
      " in include_from_node1 at ./loading.jl:304\n",
      " in require at ./loading.jl:243\n",
      " in include_string at loading.jl:266\n",
      " in execute_request_0x535c5df2 at /home/csar/.julia/v0.4/IJulia/src/execute_request.jl:177\n",
      " in eventloop at /home/csar/.julia/v0.4/IJulia/src/IJulia.jl:141\n",
      " in anonymous at task.jl:447\n",
      "while loading /home/csar/.julia/v0.4/TaylorSeries/src/TaylorN.jl, in expression starting on line 312\n",
      "WARNING: Union(args...) is deprecated, use Union{args...} instead.\n",
      " in depwarn at deprecated.jl:73\n",
      " in call at deprecated.jl:50\n",
      " [inlined code] from /home/csar/.julia/v0.4/TaylorSeries/src/TaylorN.jl:311\n",
      " in anonymous at no file:0\n",
      " in include at ./boot.jl:261\n",
      " in include_from_node1 at ./loading.jl:304\n",
      " in include at ./boot.jl:261\n",
      " in include_from_node1 at ./loading.jl:304\n",
      " in require at ./loading.jl:243\n",
      " in include_string at loading.jl:266\n",
      " in execute_request_0x535c5df2 at /home/csar/.julia/v0.4/IJulia/src/execute_request.jl:177\n",
      " in eventloop at /home/csar/.julia/v0.4/IJulia/src/IJulia.jl:141\n",
      " in anonymous at task.jl:447\n",
      "while loading /home/csar/.julia/v0.4/TaylorSeries/src/TaylorN.jl, in expression starting on line 322\n",
      "WARNING: Union(args...) is deprecated, use Union{args...} instead.\n",
      " in depwarn at deprecated.jl:73\n",
      " in call at deprecated.jl:50\n",
      " [inlined code] from /home/csar/.julia/v0.4/TaylorSeries/src/TaylorN.jl:311\n",
      " in anonymous at no file:0\n",
      " in include at ./boot.jl:261\n",
      " in include_from_node1 at ./loading.jl:304\n",
      " in include at ./boot.jl:261\n",
      " in include_from_node1 at ./loading.jl:304\n",
      " in require at ./loading.jl:243\n",
      " in include_string at loading.jl:266\n",
      " in execute_request_0x535c5df2 at /home/csar/.julia/v0.4/IJulia/src/execute_request.jl:177\n",
      " in eventloop at /home/csar/.julia/v0.4/IJulia/src/IJulia.jl:141\n",
      " in anonymous at task.jl:447\n",
      "while loading /home/csar/.julia/v0.4/TaylorSeries/src/TaylorN.jl, in expression starting on line 312\n",
      "WARNING: Union(args...) is deprecated, use Union{args...} instead.\n",
      " in depwarn at deprecated.jl:73\n",
      " in call at deprecated.jl:50\n",
      " [inlined code] from /home/csar/.julia/v0.4/TaylorSeries/src/TaylorN.jl:311\n",
      " in anonymous at no file:0\n",
      " in include at ./boot.jl:261\n",
      " in include_from_node1 at ./loading.jl:304\n",
      " in include at ./boot.jl:261\n",
      " in include_from_node1 at ./loading.jl:304\n",
      " in require at ./loading.jl:243\n",
      " in include_string at loading.jl:266\n",
      " in execute_request_0x535c5df2 at /home/csar/.julia/v0.4/IJulia/src/execute_request.jl:177\n",
      " in eventloop at /home/csar/.julia/v0.4/IJulia/src/IJulia.jl:141\n",
      " in anonymous at task.jl:447\n",
      "while loading /home/csar/.julia/v0.4/TaylorSeries/src/TaylorN.jl, in expression starting on line 322\n",
      "WARNING: Union(args...) is deprecated, use Union{args...} instead.\n",
      " in depwarn at deprecated.jl:73\n",
      " in call at deprecated.jl:50\n",
      " in include at ./boot.jl:261\n",
      " in include_from_node1 at ./loading.jl:304\n",
      " in include at ./boot.jl:261\n",
      " in include_from_node1 at ./loading.jl:304\n",
      " in require at ./loading.jl:243\n",
      " in include_string at loading.jl:266\n",
      " in execute_request_0x535c5df2 at /home/csar/.julia/v0.4/IJulia/src/execute_request.jl:177\n",
      " in eventloop at /home/csar/.julia/v0.4/IJulia/src/IJulia.jl:141\n",
      " in anonymous at task.jl:447\n",
      "while loading /home/csar/.julia/v0.4/TaylorSeries/src/TaylorN.jl, in expression starting on line 369\n",
      "WARNING: Union(args...) is deprecated, use Union{args...} instead.\n",
      " in depwarn at deprecated.jl:73\n",
      " in call at deprecated.jl:50\n",
      " in include at ./boot.jl:261\n",
      " in include_from_node1 at ./loading.jl:304\n",
      " in include at ./boot.jl:261\n",
      " in include_from_node1 at ./loading.jl:304\n",
      " in require at ./loading.jl:243\n",
      " in include_string at loading.jl:266\n",
      " in execute_request_0x535c5df2 at /home/csar/.julia/v0.4/IJulia/src/execute_request.jl:177\n",
      " in eventloop at /home/csar/.julia/v0.4/IJulia/src/IJulia.jl:141\n",
      " in anonymous at task.jl:447\n",
      "while loading /home/csar/.julia/v0.4/TaylorSeries/src/TaylorN.jl, in expression starting on line 378\n",
      "WARNING: Union(args...) is deprecated, use Union{args...} instead.\n",
      " in depwarn at deprecated.jl:73\n",
      " in call at deprecated.jl:50\n",
      " in include at ./boot.jl:261\n",
      " in include_from_node1 at ./loading.jl:304\n",
      " in include at ./boot.jl:261\n",
      " in include_from_node1 at ./loading.jl:304\n",
      " in require at ./loading.jl:243\n",
      " in include_string at loading.jl:266\n",
      " in execute_request_0x535c5df2 at /home/csar/.julia/v0.4/IJulia/src/execute_request.jl:177\n",
      " in eventloop at /home/csar/.julia/v0.4/IJulia/src/IJulia.jl:141\n",
      " in anonymous at task.jl:447\n",
      "while loading /home/csar/.julia/v0.4/TaylorSeries/src/TaylorN.jl, in expression starting on line 383\n",
      "WARNING: Union(args...) is deprecated, use Union{args...} instead.\n",
      " in depwarn at deprecated.jl:73\n",
      " in call at deprecated.jl:50\n",
      " in include at ./boot.jl:261\n",
      " in include_from_node1 at ./loading.jl:304\n",
      " in include at ./boot.jl:261\n",
      " in include_from_node1 at ./loading.jl:304\n",
      " in require at ./loading.jl:243\n",
      " in include_string at loading.jl:266\n",
      " in execute_request_0x535c5df2 at /home/csar/.julia/v0.4/IJulia/src/execute_request.jl:177\n",
      " in eventloop at /home/csar/.julia/v0.4/IJulia/src/IJulia.jl:141\n",
      " in anonymous at task.jl:447\n",
      "while loading /home/csar/.julia/v0.4/TaylorSeries/src/TaylorN.jl, in expression starting on line 392\n",
      "WARNING: Union(args...) is deprecated, use Union{args...} instead.\n",
      " in depwarn at deprecated.jl:73\n",
      " in call at deprecated.jl:50\n",
      " in include at ./boot.jl:261\n",
      " in include_from_node1 at ./loading.jl:304\n",
      " in include at ./boot.jl:261\n",
      " in include_from_node1 at ./loading.jl:304\n",
      " in require at ./loading.jl:243\n",
      " in include_string at loading.jl:266\n",
      " in execute_request_0x535c5df2 at /home/csar/.julia/v0.4/IJulia/src/execute_request.jl:177\n",
      " in eventloop at /home/csar/.julia/v0.4/IJulia/src/IJulia.jl:141\n",
      " in anonymous at task.jl:447\n",
      "while loading /home/csar/.julia/v0.4/TaylorSeries/src/TaylorN.jl, in expression starting on line 845\n",
      "WARNING: Union(args...) is deprecated, use Union{args...} instead.\n",
      " in depwarn at deprecated.jl:73\n",
      " in call at deprecated.jl:50\n",
      " in include at ./boot.jl:261\n",
      " in include_from_node1 at ./loading.jl:304\n",
      " in include at ./boot.jl:261\n",
      " in include_from_node1 at ./loading.jl:304\n",
      " in require at ./loading.jl:243\n",
      " in include_string at loading.jl:266\n",
      " in execute_request_0x535c5df2 at /home/csar/.julia/v0.4/IJulia/src/execute_request.jl:177\n",
      " in eventloop at /home/csar/.julia/v0.4/IJulia/src/IJulia.jl:141\n",
      " in anonymous at task.jl:447\n",
      "while loading /home/csar/.julia/v0.4/TaylorSeries/src/TaylorN.jl, in expression starting on line 860\n",
      "WARNING: Union(args...) is deprecated, use Union{args...} instead.\n",
      " in depwarn at deprecated.jl:73\n",
      " in call at deprecated.jl:50\n",
      " in include at ./boot.jl:261\n",
      " in include_from_node1 at ./loading.jl:304\n",
      " in include at ./boot.jl:261\n",
      " in include_from_node1 at ./loading.jl:304\n",
      " in require at ./loading.jl:243\n",
      " in include_string at loading.jl:266\n",
      " in execute_request_0x535c5df2 at /home/csar/.julia/v0.4/IJulia/src/execute_request.jl:177\n",
      " in eventloop at /home/csar/.julia/v0.4/IJulia/src/IJulia.jl:141\n",
      " in anonymous at task.jl:447\n",
      "while loading /home/csar/.julia/v0.4/TaylorSeries/src/TaylorN.jl, in expression starting on line 879\n",
      "WARNING: Union(args...) is deprecated, use Union{args...} instead.\n",
      " in depwarn at deprecated.jl:73\n",
      " in call at deprecated.jl:50\n",
      " in include at ./boot.jl:261\n",
      " in include_from_node1 at ./loading.jl:304\n",
      " in include at ./boot.jl:261\n",
      " in include_from_node1 at ./loading.jl:304\n",
      " in require at ./loading.jl:243\n",
      " in include_string at loading.jl:266\n",
      " in execute_request_0x535c5df2 at /home/csar/.julia/v0.4/IJulia/src/execute_request.jl:177\n",
      " in eventloop at /home/csar/.julia/v0.4/IJulia/src/IJulia.jl:141\n",
      " in anonymous at task.jl:447\n",
      "while loading /home/csar/.julia/v0.4/TaylorSeries/src/TaylorN.jl, in expression starting on line 914\n",
      "WARNING: Union(args...) is deprecated, use Union{args...} instead.\n"
     ]
    }
   ],
   "source": [
    "#Llamando al paquete de Taylor\n",
    "\n",
    "using TaylorSeries"
   ]
  },
  {
   "cell_type": "code",
   "execution_count": 2,
   "metadata": {
    "collapsed": false
   },
   "outputs": [],
   "source": [
    "#Definiendo parámetros. Sólo para fijar ideas.\n",
    "\n",
    "x1_0 = 0.0;\n",
    "x2_0 = pi;\n",
    "l1 = pi/16;\n",
    "l2 = l1;\n",
    "V1 = pi/4;\n",
    "V2 = pi/2;\n",
    "\n",
    "per1=1;\n",
    "per2=1;\n",
    "\n"
   ]
  },
  {
   "cell_type": "markdown",
   "metadata": {},
   "source": [
    "A continuación se escribe la función `modulo2pi` que encuentra la diferencia entre dos ángulos en módulo 2$\\pi$"
   ]
  },
  {
   "cell_type": "code",
   "execution_count": 3,
   "metadata": {
    "collapsed": false
   },
   "outputs": [
    {
     "name": "stderr",
     "output_type": "stream",
     "text": [
      " in depwarn at deprecated.jl:73\n",
      " in call at deprecated.jl:50\n",
      " in include at ./boot.jl:261\n",
      " in include_from_node1 at ./loading.jl:304\n",
      " in include at ./boot.jl:261\n",
      " in include_from_node1 at ./loading.jl:304\n",
      " in require at ./loading.jl:243\n",
      " in include_string at loading.jl:266\n",
      " in execute_request_0x535c5df2 at /home/csar/.julia/v0.4/IJulia/src/execute_request.jl:177\n",
      " in eventloop at /home/csar/.julia/v0.4/IJulia/src/IJulia.jl:141\n",
      " in anonymous at task.jl:447\n",
      "while loading /home/csar/.julia/v0.4/TaylorSeries/src/printing.jl, in expression starting on line 149\n",
      "WARNING: Union(args...) is deprecated, use Union{args...} instead.\n",
      " in depwarn at deprecated.jl:73\n",
      " in call at deprecated.jl:50\n",
      " in include at ./boot.jl:261\n",
      " in include_from_node1 at ./loading.jl:304\n",
      " in include at ./boot.jl:261\n",
      " in include_from_node1 at ./loading.jl:304\n",
      " in require at ./loading.jl:243\n",
      " in include_string at loading.jl:266\n",
      " in execute_request_0x535c5df2 at /home/csar/.julia/v0.4/IJulia/src/execute_request.jl:177\n",
      " in eventloop at /home/csar/.julia/v0.4/IJulia/src/IJulia.jl:141\n",
      " in anonymous at task.jl:447\n",
      "while loading /home/csar/.julia/v0.4/TaylorSeries/src/printing.jl, in expression starting on line 154\n"
     ]
    },
    {
     "data": {
      "text/plain": [
       "modulo2pi (generic function with 1 method)"
      ]
     },
     "execution_count": 3,
     "metadata": {},
     "output_type": "execute_result"
    }
   ],
   "source": [
    "function modulo2pi(α,β)\n",
    "    #Esta función calcula la diferencia entre dos ángulos y la devuelve \n",
    "    #módulo 2π.\n",
    "    δ=α-β \n",
    "    \n",
    "    if δ<0\n",
    "        δ = 2π + δ\n",
    "    else \n",
    "        δ = δ \n",
    "    end\n",
    "    \n",
    "    return δ\n",
    "end"
   ]
  },
  {
   "cell_type": "code",
   "execution_count": 4,
   "metadata": {
    "collapsed": false
   },
   "outputs": [
    {
     "data": {
      "text/plain": [
       "fmax (generic function with 1 method)"
      ]
     },
     "execution_count": 4,
     "metadata": {},
     "output_type": "execute_result"
    }
   ],
   "source": [
    "#La siguiente función calcula los coeficientes de la velocidad de seguridad\n",
    "\n",
    "function fSec{R<:Real }(T::R, car::TaylorSeries.Taylor1{R}, frontcar::TaylorSeries.Taylor1{R} , lfcar::R, Vmax::R)\n",
    "    k = max(car.order, frontcar.order)\n",
    "    \n",
    "    vel = taylor1_variable(Float64, k)\n",
    "     \n",
    "    vel.coeffs[1] = 1/T * modulo2pi(frontcar.coeffs[1]-lfcar,car.coeffs[1])\n",
    "    \n",
    "    for i = 2 : k+1\n",
    "        vel.coeffs[i] = 1/T * (frontcar.coeffs[i]-car.coeffs[i])\n",
    "    end\n",
    "        \n",
    "    \n",
    "    return vel\n",
    "end\n",
    "\n",
    "function fmax{R<:Real}(T::R, car::TaylorSeries.Taylor1{R}, frontcar::TaylorSeries.Taylor1{R} , lfcar::R, Vmax::R)\n",
    "    vel = taylor1_variable(Float64,10)\n",
    "    \n",
    "    vel.coeffs[1] = Vmax\n",
    "    vel.coeffs[2] = 0\n",
    "    return vel\n",
    "end\n"
   ]
  },
  {
   "cell_type": "markdown",
   "metadata": {},
   "source": [
    "Ahora se definen un par de variables tipo `Taylor1` que tendrá información de las series de taylor de las funciones $x_1 (t)$ y $x_2 (t)$."
   ]
  },
  {
   "cell_type": "markdown",
   "metadata": {
    "collapsed": true
   },
   "source": [
    "Ahora, a encontrar los siguientes coeficientes. Usando que \n",
    "$$ x_{n+1} = \\frac{f_n}{n+1} $$"
   ]
  },
  {
   "cell_type": "markdown",
   "metadata": {
    "collapsed": false
   },
   "source": [
    "Es momento de avanzar. definamos la épsilon y la función para calcular el siguiente paso.\n",
    "\n",
    "Sabemos que el paso siguiente está dado por \n",
    "$$ h = \\min\\big[\\, \\big(\\frac{\\epsilon}{x^{[p-1]}}\\big)^{1/(p-1)}, \\big(\\frac{\\epsilon}{x^{[p]}}\\big)^{1/p}\\, \\big] $$"
   ]
  },
  {
   "cell_type": "code",
   "execution_count": 5,
   "metadata": {
    "collapsed": false
   },
   "outputs": [
    {
     "data": {
      "text/plain": [
       "stepsize (generic function with 1 method)"
      ]
     },
     "execution_count": 5,
     "metadata": {},
     "output_type": "execute_result"
    }
   ],
   "source": [
    "function stepsize{T<:Real}(x::TaylorSeries.Taylor1{T}, epsilon::Float64)\n",
    "    ord = x.order\n",
    "    h = Inf\n",
    "    \n",
    "    if ord > 1\n",
    "        \n",
    "        for k in [ord-1, ord]\n",
    "            kinv = 1.0/k\n",
    "            aux = abs( x.coeffs[k+1] )\n",
    "            h = min(h, (epsilon/aux)^kinv)\n",
    "        end\n",
    "    \n",
    "    elseif ord == 1\n",
    "        \n",
    "        \n",
    "        \n",
    "        aux = abs( x.coeffs[2])\n",
    "        \n",
    "        h = min(h, (epsilon/aux))\n",
    "        \n",
    "    end\n",
    "        \n",
    "    \n",
    "    \n",
    "    return h\n",
    "end"
   ]
  },
  {
   "cell_type": "markdown",
   "metadata": {
    "collapsed": true
   },
   "source": [
    "Necesitamos una función que sólo con las condiciones iniciales (y otros parámetros) , calcule las series de dos coches."
   ]
  },
  {
   "cell_type": "code",
   "execution_count": 6,
   "metadata": {
    "collapsed": false,
    "slideshow": {
     "slide_type": "notes"
    }
   },
   "outputs": [
    {
     "data": {
      "text/plain": [
       "series (generic function with 1 method)"
      ]
     },
     "execution_count": 6,
     "metadata": {},
     "output_type": "execute_result"
    }
   ],
   "source": [
    "function series(x10,x20,T1,T2,L1,L2,V1,V2)\n",
    "   \n",
    "    \n",
    "    vel1 = 1/T1 * modulo2pi(x20-L2,x10)\n",
    "    \n",
    "    vel2 = 1/T2 * modulo2pi(x10-L1,x20)\n",
    "    #Velocidades de seguridad.\n",
    "    \n",
    "    if vel1 < V1 && vel2 < V2\n",
    "    \n",
    "        x1 = taylor1_variable(Float64,20)\n",
    "        x2 = taylor1_variable(Float64,20)\n",
    "    \n",
    "        x1.coeffs[1] = x10\n",
    "        x1.coeffs[2] = 0\n",
    "    \n",
    "        x2.coeffs[1] = x20\n",
    "        x2.coeffs[2] = 0\n",
    "        \n",
    "        for i = 2:20\n",
    "            x1.coeffs[i] = velocidad_sec(T1,x1,x2,L2).coeffs[i-1]/i\n",
    "            x2.coeffs[i] = velocidad_sec(T2,x2,x1,L1).coeffs[i-1]/i\n",
    "        end\n",
    "    \n",
    "    \n",
    "    elseif vel1 < V1 && vel2 > V2\n",
    "        \n",
    "        x1 = taylor1_variable(Float64,20)\n",
    "        x2 = taylor1_variable(Float64,1)\n",
    "        \n",
    "        x1.coeffs[1] = x10\n",
    "        x1.coeffs[2] = 0\n",
    "        \n",
    "        x2.coeffs[1] = x20\n",
    "        \n",
    "        \n",
    "        x2.coeffs[2] = V2\n",
    "        for i = 2:20\n",
    "            x1.coeffs[i] = velocidad_sec(T1,x1,x2,L2).coeffs[i-1]/i\n",
    "        end\n",
    "        \n",
    "    \n",
    "    \n",
    "\n",
    "    \n",
    "    elseif vel1 > V1 && vel2 < V2\n",
    "        \n",
    "        x1 = taylor1_variable(Float64,1)\n",
    "        x2 = taylor1_variable(Float64,20)\n",
    "        \n",
    "        x1.coeffs[1] = x10\n",
    "        x1.coeffs[2] = V1\n",
    "        \n",
    "        x2.coeffs[1] = x20\n",
    "        x2.coeffs[0] = 0\n",
    "        \n",
    "        for i = 2:20\n",
    "            x2.coeffs[i] = velocidad_sec(T2,x2,x1,L1).coeffs[i-1]/i\n",
    "        end\n",
    "        \n",
    "        \n",
    "    \n",
    "    \n",
    "    elseif vel1 > V1 && vel2 > V2\n",
    "        x1 = taylor1_variable(Float64,1)\n",
    "        x2 = taylor1_variable(Float64,1)\n",
    "        \n",
    "        x1.coeffs[1] = x10\n",
    "        x1.coeffs[2] = V1\n",
    "        \n",
    "        x2.coeffs[1] = x20\n",
    "        x2.coeffs[2] = V2\n",
    "        \n",
    "    end\n",
    "    \n",
    "    return x1, x2\n",
    "    \n",
    "end\n",
    "    \n",
    "        \n",
    "    \n",
    "    \n",
    "    \n",
    "    "
   ]
  },
  {
   "cell_type": "code",
   "execution_count": 7,
   "metadata": {
    "collapsed": false
   },
   "outputs": [
    {
     "data": {
      "text/plain": [
       "TaylorSeries.Taylor1{Float64}"
      ]
     },
     "execution_count": 7,
     "metadata": {},
     "output_type": "execute_result"
    }
   ],
   "source": [
    " x2 = taylor1_variable(Float64,1)\n",
    "typeof(x2)"
   ]
  },
  {
   "cell_type": "code",
   "execution_count": 8,
   "metadata": {
    "collapsed": false
   },
   "outputs": [],
   "source": [
    "\n",
    "#t1 y t2 son vectores donde se guardarán los tiempos donde se evalúa la función.\n",
    "t1 = Float64[];\n",
    "push!(t1,0);\n",
    "\n",
    "#x1 y x2 son vectores donde se guardarán los valores de las funciones x1(t) y x2(t)\n",
    "\n",
    "x1 = Float64[];\n",
    "push!(x1,x1_0);\n",
    "x2 = Float64[];\n",
    "push!(x2,x2_0);\n",
    "\n",
    "\n",
    "\n",
    "\n",
    "for n in 2:1000\n",
    "    \n",
    "    x1Taylor = series(x1_0,x2_0,per1,per2,l1,l2,V1,V2)[1]\n",
    "    x2Taylor = series(x1_0,x2_0,per1,per2,l1,l2,V1,V2)[2]\n",
    "    \n",
    "    h1 = stepsize(x1Taylor,1.0e-5)\n",
    "    \n",
    "    h2 = stepsize(x2Taylor,1.0e-5)\n",
    "    h = min(h1,h2)\n",
    "    \n",
    "    \n",
    "    \n",
    "    push!(t1,t1[n-1] + h)\n",
    "    \n",
    "    x1_0 = evaluate(x1Taylor,h)\n",
    "    push!(x1,x1_0)\n",
    "    x2_0 = evaluate(x2Taylor,h)\n",
    "    push!(x2,x2_0)\n",
    "    \n",
    "end\n",
    "    \n",
    "    \n",
    "    \n",
    "    \n",
    "    "
   ]
  },
  {
   "cell_type": "code",
   "execution_count": 9,
   "metadata": {
    "collapsed": false
   },
   "outputs": [
    {
     "data": {
      "text/plain": [
       "1000-element Array{Float64,1}:\n",
       " 0.0     \n",
       " 5.0e-6  \n",
       " 1.0e-5  \n",
       " 1.5e-5  \n",
       " 2.0e-5  \n",
       " 2.5e-5  \n",
       " 3.0e-5  \n",
       " 3.5e-5  \n",
       " 4.0e-5  \n",
       " 4.5e-5  \n",
       " 5.0e-5  \n",
       " 5.5e-5  \n",
       " 6.0e-5  \n",
       " ⋮       \n",
       " 0.00494 \n",
       " 0.004945\n",
       " 0.00495 \n",
       " 0.004955\n",
       " 0.00496 \n",
       " 0.004965\n",
       " 0.00497 \n",
       " 0.004975\n",
       " 0.00498 \n",
       " 0.004985\n",
       " 0.00499 \n",
       " 0.004995"
      ]
     },
     "execution_count": 9,
     "metadata": {},
     "output_type": "execute_result"
    }
   ],
   "source": [
    "x1"
   ]
  },
  {
   "cell_type": "code",
   "execution_count": 10,
   "metadata": {
    "collapsed": false
   },
   "outputs": [
    {
     "ename": "LoadError",
     "evalue": "LoadError: MethodError: `stepsize` has no method matching stepsize(::Array{Float64,1}, ::Float64)\nClosest candidates are:\n  stepsize{T<:Real}(!Matched::TaylorSeries.Taylor1{T<:Real}, ::Float64)\nwhile loading In[10], in expression starting on line 1",
     "output_type": "error",
     "traceback": [
      "LoadError: MethodError: `stepsize` has no method matching stepsize(::Array{Float64,1}, ::Float64)\nClosest candidates are:\n  stepsize{T<:Real}(!Matched::TaylorSeries.Taylor1{T<:Real}, ::Float64)\nwhile loading In[10], in expression starting on line 1",
      ""
     ]
    }
   ],
   "source": [
    "h = stepsize(x2,1.0e-20)"
   ]
  },
  {
   "cell_type": "code",
   "execution_count": 11,
   "metadata": {
    "collapsed": false
   },
   "outputs": [
    {
     "data": {
      "text/plain": [
       "Array{Float64,1}"
      ]
     },
     "execution_count": 11,
     "metadata": {},
     "output_type": "execute_result"
    }
   ],
   "source": [
    "t1\n",
    "typeof(t1)"
   ]
  },
  {
   "cell_type": "code",
   "execution_count": 12,
   "metadata": {
    "collapsed": false
   },
   "outputs": [
    {
     "data": {
      "text/plain": [
       "speed (generic function with 1 method)"
      ]
     },
     "execution_count": 12,
     "metadata": {},
     "output_type": "execute_result"
    }
   ],
   "source": [
    "function speed(intPos::Array{Float64,1}, carL::Array{Float64,1}, carτ::Array{Float64,1}, carV::Array{Float64,1})\n",
    "    #Esta función decide la función que debe generar la serie de cada carro.\n",
    "    \n",
    "    n = length(intPos)\n",
    "    F = Function[]\n",
    "   \n",
    "    #F será un arreglo de funciones, una función para cada carro.\n",
    "    \n",
    "    for j in 1:n-1\n",
    "        \n",
    "        a = (modulo2pi(intPos[j+1],intPos[j])-carL[j+1])/carτ[j] #Checa la distancia al coche de enfrente.\n",
    "        b = carV[j]\n",
    "        \n",
    "        if a < b #Compara las velocidades y decide que función aplicar al coche j\n",
    "            push!(F,fSec)\n",
    "        else\n",
    "            push!(F,fmax)\n",
    "        end\n",
    "        \n",
    "    end\n",
    "    #El coche que está delante del enésimo es el coch 1. Se debe cerrar la cadena.\n",
    "    \n",
    "    a = (modulo2pi(intPos[1],intPos[n])-carL[1])/carτ[n]\n",
    "    b = carV[n]\n",
    "    \n",
    "    if a < b\n",
    "        push!(F,fSec)\n",
    "    else\n",
    "        push!(F,fmax)\n",
    "    end\n",
    "    \n",
    "    return F\n",
    "    \n",
    "end"
   ]
  },
  {
   "cell_type": "code",
   "execution_count": 13,
   "metadata": {
    "collapsed": false
   },
   "outputs": [
    {
     "data": {
      "text/plain": [
       "3-element Array{Float64,1}:\n",
       " 0.785398\n",
       " 1.5708  \n",
       " 2.35619 "
      ]
     },
     "execution_count": 13,
     "metadata": {},
     "output_type": "execute_result"
    }
   ],
   "source": [
    "X0 = [0,π,7*π/4];\n",
    "L = π/16 * [1,1,1];\n",
    "Τ = [1.0,1.0,1.0];\n",
    "V = [π/4, π/2, 3*π/4]"
   ]
  },
  {
   "cell_type": "code",
   "execution_count": 14,
   "metadata": {
    "collapsed": false
   },
   "outputs": [
    {
     "data": {
      "text/plain": [
       "3-element Array{Function,1}:\n",
       " fmax\n",
       " fmax\n",
       " fSec"
      ]
     },
     "execution_count": 14,
     "metadata": {},
     "output_type": "execute_result"
    }
   ],
   "source": [
    "F = speed(X0, L, Τ, V)"
   ]
  },
  {
   "cell_type": "code",
   "execution_count": 15,
   "metadata": {
    "collapsed": false
   },
   "outputs": [
    {
     "ename": "LoadError",
     "evalue": "LoadError: MethodError: `fmax` has no method matching fmax(::Float64, ::Array{Float64,1}, ::Array{Float64,1}, ::Float64, ::Float64)\nClosest candidates are:\n  fmax{R<:Real}(::R<:Real, !Matched::TaylorSeries.Taylor1{R<:Real}, !Matched::TaylorSeries.Taylor1{R<:Real}, ::R<:Real, ::R<:Real)\nwhile loading In[15], in expression starting on line 1",
     "output_type": "error",
     "traceback": [
      "LoadError: MethodError: `fmax` has no method matching fmax(::Float64, ::Array{Float64,1}, ::Array{Float64,1}, ::Float64, ::Float64)\nClosest candidates are:\n  fmax{R<:Real}(::R<:Real, !Matched::TaylorSeries.Taylor1{R<:Real}, !Matched::TaylorSeries.Taylor1{R<:Real}, ::R<:Real, ::R<:Real)\nwhile loading In[15], in expression starting on line 1",
      ""
     ]
    }
   ],
   "source": [
    "F[1](1.,x2,x2,1.,π/4)"
   ]
  },
  {
   "cell_type": "code",
   "execution_count": 16,
   "metadata": {
    "collapsed": false
   },
   "outputs": [
    {
     "data": {
      "text/plain": [
       "Taylorcars (generic function with 1 method)"
      ]
     },
     "execution_count": 16,
     "metadata": {},
     "output_type": "execute_result"
    }
   ],
   "source": [
    "function Taylorcars(initPos::Array{Float64,1}, carL::Array{Float64,1}, carτ::Array{Float64,1}, carV::Array{Float64,1})\n",
    "    \n",
    "    n = length(initPos)\n",
    "    \n",
    "    Xcars = TaylorSeries.Taylor1{Float64}[]\n",
    "    \n",
    "    #El siguiente cilco llena el arreglo Xcars con taylors que sólo tienen el coeficiente de orden cero.\n",
    "    for i in 1:n\n",
    "        x = taylor1_variable(Float64,10)\n",
    "        x.coeffs[1] = initPos[i]\n",
    "        x.coeffs[2] = 0\n",
    "        \n",
    "        push!(Xcars,x)\n",
    "    end\n",
    "    \n",
    "    #Se aplica la función speed para conocer la velocidad que tendrá cada carro\n",
    "    F = speed(initPos::Array{Float64,1}, carL::Array{Float64,1}, carτ::Array{Float64,1}, carV::Array{Float64,1})\n",
    "    \n",
    "    #Una vez conociendo la velocidad se puede proseguir a calcular coeficientes de las series de taylor de órdenes mayores\n",
    "    for i in 1:n-1\n",
    "        for j in 2:11\n",
    "            #Solo se aplica la fórmula de recurrencia.\n",
    "            Xcars[i].coeffs[j] = F[i](carτ[i], Xcars[i], Xcars[i+1] , carL[i+1] , carV[i] ).coeffs[j-1]/(j-1) #se divide entre j-1 para corregir el desfase de los Taylor1 en los coeffs.\n",
    "        end\n",
    "    end\n",
    "    \n",
    "    #Al igual que con la velocidad, el último coche debe cerrar el ciclo. Tiene enfrente al coche 1.\n",
    "    for j in 2:11\n",
    "            \n",
    "        Xcars[n].coeffs[j] = F[n](carτ[n], Xcars[n], Xcars[1] , carL[1] , carV[n] ).coeffs[j-1]/(j-1) #se divide entre j-1 para corregir el desfase de los Taylor1 en los coeffs.\n",
    "    end\n",
    "    \n",
    "    return Xcars\n",
    "    \n",
    "end\n",
    "    \n",
    "    "
   ]
  },
  {
   "cell_type": "code",
   "execution_count": 17,
   "metadata": {
    "collapsed": false
   },
   "outputs": [
    {
     "data": {
      "text/plain": [
       "3-element Array{TaylorSeries.Taylor1{Float64},1}:\n",
       "                                                                                                                                                                                                                                                               0.7853981633974483 t + 𝒪(t¹¹)\n",
       "                                                                                                                                                                                                                                           3.141592653589793 + 1.5707963267948966 t + 𝒪(t¹¹)\n",
       "  5.497787143782138 + 0.589048622548086 t + 0.09817477042468115 t² - 0.03272492347489372 t³ + 0.00818123086872343 t⁴ - 0.0016362461737446858 t⁵ + 0.0002727076956241143 t⁶ - 3.895824223201633e-5 t⁷ + 4.869780279002041e-6 t⁸ - 5.410866976668934e-7 t⁹ + 5.410866976668934e-8 t¹⁰ + 𝒪(t¹¹)"
      ]
     },
     "execution_count": 17,
     "metadata": {},
     "output_type": "execute_result"
    }
   ],
   "source": [
    "a=Taylorcars(X0, L, Τ, V)"
   ]
  },
  {
   "cell_type": "code",
   "execution_count": 18,
   "metadata": {
    "collapsed": false
   },
   "outputs": [
    {
     "data": {
      "text/plain": [
       " 0.7853981633974483 + 𝒪(t¹¹)"
      ]
     },
     "execution_count": 18,
     "metadata": {},
     "output_type": "execute_result"
    }
   ],
   "source": [
    "diffTaylor(a[1])"
   ]
  },
  {
   "cell_type": "code",
   "execution_count": 19,
   "metadata": {
    "collapsed": false
   },
   "outputs": [
    {
     "data": {
      "text/plain": [
       "hselector (generic function with 1 method)"
      ]
     },
     "execution_count": 19,
     "metadata": {},
     "output_type": "execute_result"
    }
   ],
   "source": [
    "#Seleccionamos el tamano de la h que vamos a usar para eso generamos un arreglo de h y elejiremos la más chica de ellas\n",
    "#dada una épsilon\n",
    "function hselector(seriecoches,ϵ)\n",
    "    n=length(seriecoches)\n",
    "    hs = Float64[]\n",
    "    \n",
    "    for i in 1:n\n",
    "        h=stepsize(seriecoches[i],ϵ)\n",
    "        push!(hs,h)\n",
    "    end\n",
    "    \n",
    "    minabs(hs)\n",
    "end"
   ]
  },
  {
   "cell_type": "code",
   "execution_count": 20,
   "metadata": {
    "collapsed": false
   },
   "outputs": [
    {
     "data": {
      "text/plain": [
       "2.306589704437606"
      ]
     },
     "execution_count": 20,
     "metadata": {},
     "output_type": "execute_result"
    }
   ],
   "source": [
    "b=hselector(a,1.0e-3)"
   ]
  },
  {
   "cell_type": "code",
   "execution_count": 21,
   "metadata": {
    "collapsed": false
   },
   "outputs": [
    {
     "data": {
      "text/plain": [
       "2.306589704437606"
      ]
     },
     "execution_count": 21,
     "metadata": {},
     "output_type": "execute_result"
    }
   ],
   "source": [
    "c=minabs(b)"
   ]
  },
  {
   "cell_type": "code",
   "execution_count": 22,
   "metadata": {
    "collapsed": false
   },
   "outputs": [
    {
     "data": {
      "text/plain": [
       "celeritates (generic function with 1 method)"
      ]
     },
     "execution_count": 22,
     "metadata": {},
     "output_type": "execute_result"
    }
   ],
   "source": [
    "function positions(tayse,h) #Calcula las nuevas posiciones\n",
    "    x=Float64[];\n",
    "    n=length(tayse)\n",
    "    \n",
    "    for i in 1:n\n",
    "        pos= evaluate(tayse[i],h)\n",
    "        push!(x,pos)\n",
    "    end\n",
    "    \n",
    "    return x\n",
    "end\n",
    "\n",
    "function celeritates(tayse,h) #Calcula las nuevas velocidades\n",
    "    v=Float64[];\n",
    "    n=length(tayse)\n",
    "    \n",
    "    for i in 1:n\n",
    "        ves= evaluate(diffTaylor(tayse[i]),h) #hace las primeras derivadas de las series de taylor de cada coche y las evalua\n",
    "        push!(v,ves)\n",
    "    end\n",
    "    \n",
    "    return v\n",
    "end"
   ]
  },
  {
   "cell_type": "code",
   "execution_count": 23,
   "metadata": {
    "collapsed": false
   },
   "outputs": [
    {
     "data": {
      "text/plain": [
       "3-element Array{Float64,1}:\n",
       " 1.81159\n",
       " 6.76478\n",
       " 7.13263"
      ]
     },
     "execution_count": 23,
     "metadata": {},
     "output_type": "execute_result"
    }
   ],
   "source": [
    "positions(a,b)"
   ]
  },
  {
   "cell_type": "code",
   "execution_count": 24,
   "metadata": {
    "collapsed": false
   },
   "outputs": [
    {
     "data": {
      "text/plain": [
       "3-element Array{Float64,1}:\n",
       " 0.785398\n",
       " 1.5708  \n",
       " 0.766032"
      ]
     },
     "execution_count": 24,
     "metadata": {},
     "output_type": "execute_result"
    }
   ],
   "source": [
    "celeritates(a,b)"
   ]
  },
  {
   "cell_type": "code",
   "execution_count": 25,
   "metadata": {
    "collapsed": false
   },
   "outputs": [
    {
     "data": {
      "text/plain": [
       "0.7853981633974483"
      ]
     },
     "execution_count": 25,
     "metadata": {},
     "output_type": "execute_result"
    }
   ],
   "source": [
    "evaluate(diffTaylor(a[1]),b)"
   ]
  },
  {
   "cell_type": "code",
   "execution_count": 75,
   "metadata": {
    "collapsed": false
   },
   "outputs": [
    {
     "data": {
      "text/plain": [
       "Taypos (generic function with 2 methods)"
      ]
     },
     "execution_count": 75,
     "metadata": {},
     "output_type": "execute_result"
    }
   ],
   "source": [
    "#Ahora vamos a correr el método de Taylor.\n",
    "function Taypos(X0, L, Τ, V,tf,ϵ,ti=0.0)\n",
    "    tempore = Float64[ti]; #Arreglo de tiempo\n",
    "    #loca = Vector{Float64}[X0]; #Arreglo de arreglo de posiciones\n",
    "    #celeritates = Vector{Float64}[V]; #Arreglo de arreglo de velocidades\n",
    "    \n",
    "    while ti <= tf\n",
    "        tayseries = Taylorcars(X0, L, Τ, V)\n",
    "        h = hselector(tayseries,ϵ)\n",
    "        xs = positions(tayseries, h)\n",
    "        vs = celeritates(tayseries,h)\n",
    "        ti = ti+h\n",
    "        push!(tempore,ti)\n",
    "        #push!(loca,xs)\n",
    "        #push!(celeritates, [vs])\n",
    "        X0 = xs\n",
    "        #V = vs\n",
    "        println(X0)\n",
    "    end \n",
    "end\n"
   ]
  },
  {
   "cell_type": "code",
   "execution_count": 78,
   "metadata": {
    "collapsed": false
   },
   "outputs": [
    {
     "data": {
      "text/plain": [
       "0.02"
      ]
     },
     "execution_count": 78,
     "metadata": {},
     "output_type": "execute_result"
    }
   ],
   "source": [
    "X0 = [0,π,7*π/4];\n",
    "L = π/16 * [1,1,1];\n",
    "Τ = [1.0,1.0,1.0];\n",
    "V = [π/4, π/2, 3*π/4]\n",
    "tf = 1000\n",
    "ϵ = 2.0e-2"
   ]
  },
  {
   "cell_type": "code",
   "execution_count": 79,
   "metadata": {
    "collapsed": false
   },
   "outputs": [
    {
     "name": "stdout",
     "output_type": "stream",
     "text": [
      "[2.5270807467891276,8.19575414716805,7.837861468088205]\n",
      "[6.071685291653789,15.284963236897372,11.375899994633642]\n",
      "[10.127819071957092,23.39723079750398,15.432637442312396]\n",
      "[12.094176634381073,21.673988941866465,17.39589243177316]\n",
      "[17.331860430134455,32.14935653337322,22.63844058413452]\n",
      "[19.171247439505702,29.05529000815368,24.473180682726355]\n",
      "[21.186592330401115,30.44340794427601,26.488068342888816]\n",
      "[27.713158461418892,43.496540206311565,33.021909825125476]\n",
      "[29.50255332163602,39.559090137626185,34.80474157781618]\n",
      "[31.545304335696763,40.791690635045065,36.84679820955071]\n",
      "[37.80073980728036,53.30256157821225,43.10901726114289]\n",
      "[39.60334616136212,49.61039109379559,44.905474190348585]\n",
      "[41.637846248932824,50.8876795454748,46.93933612668712]\n",
      "[47.9446912213234,63.50136949025596,53.25305788482173]\n",
      "[49.744646108434125,59.761364925532995,55.046785481628156]\n",
      "[51.78073297356785,61.02992170089385,57.082223608326416]\n",
      "[58.0775108820954,73.62347751794896,63.38586005216204]\n",
      "[59.87798045038922,69.89281160200025,65.18011759828772]\n",
      "[61.913756716559064,71.16307231528923,67.21524720302035]\n",
      "[68.21249413722848,83.76054715662805,73.52084671139397]\n",
      "[70.01286334167182,80.02806221694152,75.3150009225784]\n",
      "[72.04870007650507,81.29799100207204,77.3501905918299]\n",
      "[78.34705563327574,93.8947021156134,83.65540754402548]\n",
      "[80.14744438947294,90.16257161474061,85.44958188599092]\n",
      "[82.18326934073787,91.43256507539314,87.48475985043777]\n",
      "[88.48169929696382,104.02942498784508,93.79005133696711]\n",
      "[90.28208424358523,100.29722542900993,95.58422175654466]\n",
      "[92.31791149068594,101.56720628840739,97.61940200148177]\n",
      "[98.61632695067891,114.16403720839332,103.92467896549796]\n",
      "[100.41671263956012,110.43185110495979,105.71885014931603]\n",
      "[102.45253943933355,111.70183441961133,107.75402994991585]\n",
      "[108.75095772377158,124.29867098848739,114.05930974349752]\n",
      "[110.5513432680305,120.5664822634005,115.85348077841057]\n",
      "[112.5871701549612,121.83646509966975,117.8886606655851]\n",
      "[118.88558788902054,134.43330056778845,124.19393990779031]\n",
      "[120.68597346146072,130.70111235356006,125.98811097171918]\n",
      "[122.72180033140785,131.97109528304748,128.02329084202364]\n",
      "[129.0202181727985,144.56793096582882,134.32857019175475]\n",
      "[130.8206037397432,140.83574265198084,136.1227412500254]\n",
      "[132.8564306130022,142.1057255632903,138.15792112361962]\n",
      "[139.15484843315218,154.70256120359022,144.46320045207153]\n",
      "[140.95523400118347,150.97037290943928,146.25737151146097]\n",
      "[142.99106087378763,152.24035582434294,148.2925513844047]\n",
      "[149.2894786984489,164.83719147366548,154.5978307173761]\n",
      "[151.08986426625037,161.1050031753484,156.39200177652887]\n",
      "[153.12569113899306,162.37498608949184,158.4271816496102]\n",
      "[159.42410896290244,174.97182173731062,164.73246098182832]\n",
      "[161.2244945307428,171.23963343969834,166.52663204102112]\n",
      "[163.26032140346203,172.5096163539704,168.56181191407916]\n",
      "[169.5587392273714,185.10645200178917,174.8670912462973]\n",
      "[171.3591247952113,181.37426370416853,176.66126230548963]\n",
      "[173.39495166793083,182.64424661843904,178.69644217854795]\n",
      "[179.6933694918402,195.24108226625782,185.0017215107661]\n",
      "[181.4937550596801,191.50889396863732,186.79589256995843]\n",
      "[183.52958193239962,192.77887688290784,188.83107244301675]\n",
      "[189.827999756309,205.37571253072662,195.13635177523489]\n",
      "[191.6283853241489,201.64352423310612,196.93052283442722]\n",
      "[193.66421219686842,202.91350714737663,198.96570270748555]\n",
      "[199.9626300207778,215.5103427951954,205.27098203970368]\n",
      "[201.7630155886177,211.77815449757492,207.06515309889602]\n",
      "[203.79884246133722,213.04813741184543,209.10033297195434]\n",
      "[210.0972602852466,225.6449730596642,215.40561230417248]\n",
      "[211.8976458530865,221.9127847620437,217.19978336336482]\n",
      "[213.933472725806,223.18276767631423,219.23496323642314]\n",
      "[220.2318905497154,235.779603324133,225.54024256864128]\n",
      "[222.03227611755528,232.0474150265125,227.3344136278336]\n",
      "[224.0681029902748,233.31739794078302,229.36959350089194]\n",
      "[230.36652081418418,245.9142335886018,235.67487283311007]\n",
      "[232.16690638202408,242.1820452909813,237.4690438923024]\n",
      "[234.2027332547436,243.45202820525182,239.50422376536073]\n",
      "[240.50115107865298,256.0488638530706,245.80950309757887]\n",
      "[242.30153664649288,252.3166755554501,247.6036741567712]\n",
      "[244.3373635192124,253.58665846972062,249.63885402982953]\n",
      "[250.63578134312178,266.1834941175394,255.94413336204767]\n",
      "[252.43616691096167,262.4513058199189,257.73830442124]\n",
      "[254.4719937836812,263.7212887341894,259.7734842942983]\n",
      "[260.7704116075906,276.31812438200814,266.07876362651643]\n",
      "[262.57079717543047,272.58593608438764,267.87293468570874]\n",
      "[264.60662404815,273.8559189986581,269.9081145587671]\n",
      "[270.9050418720594,286.4527546464769,276.21339389098523]\n",
      "[272.7054274398993,282.72056634885644,278.0075649501776]\n",
      "[274.7412543126188,283.990549263127,280.0427448232359]\n",
      "[281.0396721365282,296.58738491094573,286.348024155454]\n",
      "[282.8400577043681,292.85519661332523,288.1421952146464]\n",
      "[284.8758845770876,294.1251795275958,290.1773750877047]\n",
      "[291.174302400997,306.7220151754145,296.4826544199228]\n",
      "[292.9746879688369,302.98982687779403,298.2768254791152]\n",
      "[295.0105148415564,304.2598097920646,300.3120053521735]\n",
      "[301.3089326654658,316.8566454398833,306.6172846843916]\n",
      "[303.1093182333057,313.1244571422628,308.411455743584]\n",
      "[305.1451451060252,314.39444005653337,310.4466356166423]\n",
      "[311.4435629299346,326.9912757043521,316.7519149488604]\n",
      "[313.2439484977745,323.2590874067316,318.5460860080528]\n",
      "[315.279775370494,324.52907032100217,320.5812658811111]\n",
      "[321.5781931944034,337.1259059688209,326.8865452133292]\n",
      "[323.3785787622433,333.3937176712004,328.6807162725216]\n",
      "[325.4144056349628,334.66370058547096,330.7158961455799]\n",
      "[331.7128234588722,347.2605362332897,337.021175477798]\n",
      "[333.5132090267121,343.5283479356692,338.8153465369904]\n",
      "[335.5490358994316,344.79833084993976,340.8505264100487]\n",
      "[341.847453723341,357.3951664977585,347.1558057422668]\n",
      "[343.6478392911809,353.662978200138,348.9499768014592]\n",
      "[345.6836661639004,354.93296111440856,350.9851566745175]\n",
      "[351.9820839878098,367.5297967622273,357.2904360067356]\n",
      "[353.7824695556497,363.7976084646068,359.08460706592797]\n",
      "[355.8182964283692,365.06759137887735,361.1197869389863]\n",
      "[362.1167142522786,377.6644270266961,367.4250662712044]\n",
      "[363.9170998201185,373.9322387290756,369.21923733039677]\n",
      "[365.952926692838,375.20222164334615,371.2544172034551]\n",
      "[372.2513445167474,387.7990572911649,377.5596965356732]\n",
      "[374.0517300845873,384.0668689935444,379.35386759486556]\n",
      "[376.0875569573068,385.33685190781495,381.3890474679239]\n",
      "[382.3859747812162,397.9336875556337,387.694326800142]\n",
      "[384.1863603490561,394.2014992580132,389.48849785933436]\n",
      "[386.2221872217756,395.47148217228374,391.5236777323927]\n",
      "[392.520605045685,408.0683178201025,397.8289570646108]\n",
      "[394.3209906135249,404.336129522482,399.62312812380316]\n",
      "[396.3568174862444,405.60611243675254,401.6583079968615]\n",
      "[402.6552353101538,418.2029480845713,407.9635873290796]\n",
      "[404.4556208779937,414.4707597869508,409.75775838827195]\n",
      "[406.4914477507132,415.74074270122134,411.7929382613303]\n",
      "[412.7898655746226,428.3375783490401,418.0982175935484]\n",
      "[414.5902511424625,424.6053900514196,419.89238865274075]\n",
      "[416.626078015182,425.87537296569013,421.9275685257991]\n",
      "[422.9244958390914,438.4722086135089,428.2328478580172]\n",
      "[424.7248814069313,434.7400203158884,430.02701891720955]\n",
      "[426.76070827965077,436.01000323015893,432.06219879026787]\n",
      "[433.0591261035602,448.6068388779777,438.367478122486]\n",
      "[434.85951167140007,444.8746505803572,440.16164918167834]\n",
      "[436.89533854411957,446.1446334946277,442.19682905473667]\n",
      "[443.19375636802897,458.7414691424465,448.5021083869548]\n",
      "[444.99414193586887,455.009280844826,450.29627944614714]\n",
      "[447.02996880858836,456.2792637590965,452.33145931920546]\n",
      "[453.32838663249777,468.8760994069153,458.63673865142357]\n",
      "[455.12877220033766,465.1439111092948,460.43090971061594]\n",
      "[457.16459907305716,466.4138940235653,462.46608958367426]\n",
      "[463.46301689696656,479.01072967138407,468.77136891589237]\n",
      "[465.26340246480646,475.2785413737636,470.56553997508473]\n",
      "[467.29922933752596,476.5485242880341,472.60071984814306]\n",
      "[473.59764716143536,489.14535993585287,478.90599918036116]\n",
      "[475.39803272927526,485.41317163823237,480.70017023955353]\n",
      "[477.43385960199475,486.6831545525029,482.73535011261185]\n",
      "[483.73227742590416,499.27999020032166,489.04062944482996]\n",
      "[485.53266299374405,495.54780190270117,490.8348005040223]\n",
      "[487.56848986646355,496.8177848169717,492.86998037708065]\n",
      "[493.86690769037295,509.41462046479046,499.17525970929876]\n",
      "[495.66729325821285,505.68243216716996,500.9694307684911]\n",
      "[497.70312013093235,506.9524150814405,503.00461064154945]\n",
      "[504.00153795484175,519.5492507292593,509.30988997376755]\n",
      "[505.80192352268165,515.8170624316388,511.1040610329599]\n",
      "[507.83775039540114,517.0870453459094,513.1392409060182]\n",
      "[514.1361682193105,529.6838809937282,519.4445202382364]\n",
      "[515.9365537871504,525.9516926961076,521.2386912974288]\n",
      "[517.9723806598699,527.2216756103782,523.273871170487]\n",
      "[524.2707984837793,539.818511258197,529.5791505027051]\n",
      "[526.0711840516192,536.0863229605764,531.3733215618976]\n",
      "[528.1070109243387,537.356305874847,533.4085014349558]\n",
      "[534.4054287482481,549.9531415226658,539.713780767174]\n",
      "[536.205814316088,546.2209532250452,541.5079518263664]\n",
      "[538.2416411888075,547.4909361393157,543.5431316994246]\n",
      "[544.5400590127169,560.0877717871346,549.8484110316427]\n",
      "[546.3404445805568,556.355583489514,551.6425820908352]\n",
      "[548.3762714532763,557.6255664037845,553.6777619638934]\n",
      "[554.6746892771857,570.2224020516034,559.9830412961115]\n",
      "[556.4750748450256,566.4902137539827,561.777212355304]\n",
      "[558.5109017177451,567.7601966682533,563.8123922283622]\n",
      "[564.8093195416545,580.3570323160722,570.1176715605803]\n",
      "[566.6097051094944,576.6248440184515,571.9118426197728]\n",
      "[568.6455319822139,577.8948269327221,573.947022492831]\n",
      "[574.9439498061233,590.491662580541,580.2523018250491]\n",
      "[576.7443353739632,586.7594742829203,582.0464728842416]\n",
      "[578.7801622466827,588.0294571971909,584.0816527572998]\n",
      "[585.0785800705921,600.6262928450097,590.3869320895179]\n",
      "[586.878965638432,596.8941045473891,592.1811031487103]\n",
      "[588.9147925111515,598.1640874616597,594.2162830217686]\n",
      "[595.2132103350609,610.7609231094785,600.5215623539867]\n",
      "[597.0135959029008,607.0287348118579,602.3157334131791]\n",
      "[599.0494227756203,608.2987177261285,604.3509132862374]\n",
      "[605.3478405995297,620.8955533739473,610.6561926184555]\n",
      "[607.1482261673696,617.1633650763267,612.4503636776479]\n",
      "[609.1840530400891,618.4333479905973,614.4855435507062]\n",
      "[615.4824708639985,631.0301836384161,620.7908228829243]\n",
      "[617.2828564318384,627.2979953407955,622.5849939421167]\n",
      "[619.3186833045579,628.5679782550661,624.620173815175]\n",
      "[625.6171011284673,641.1648139028849,630.9254531473931]\n",
      "[627.4174866963072,637.4326256052643,632.7196242065855]\n",
      "[629.4533135690267,638.7026085195349,634.7548040796438]\n",
      "[635.7517313929361,651.2994441673537,641.0600834118619]\n",
      "[637.552116960776,647.5672558697331,642.8542544710543]\n",
      "[639.5879438334955,648.8372387840037,644.8894343441126]\n",
      "[645.8863616574049,661.4340744318225,651.1947136763307]\n",
      "[647.6867472252447,657.7018861342019,652.9888847355231]\n",
      "[649.7225740979643,658.9718690484725,655.0240646085814]\n",
      "[656.0209919218737,671.5687046962913,661.3293439407995]\n",
      "[657.8213774897135,667.8365163986707,663.1235149999919]\n",
      "[659.8572043624331,669.1064993129413,665.1586948730502]\n",
      "[666.1556221863425,681.7033349607601,671.4639742052683]\n",
      "[667.9560077541823,677.9711466631395,673.2581452644607]\n",
      "[669.9918346269019,679.2411295774101,675.293325137519]\n",
      "[676.2902524508113,691.8379652252289,681.5986044697371]\n",
      "[678.0906380186511,688.1057769276083,683.3927755289295]\n",
      "[680.1264648913707,689.3757598418789,685.4279554019878]\n",
      "[686.4248827152801,701.9725954896977,691.7332347342059]\n",
      "[688.2252682831199,698.2404071920771,693.5274057933983]\n",
      "[690.2610951558395,699.5103901063477,695.5625856664566]\n",
      "[696.5595129797489,712.1072257541665,701.8678649986747]\n",
      "[698.3598985475887,708.3750374565459,703.6620360578671]\n",
      "[700.3957254203083,709.6450203708165,705.6972159309254]\n",
      "[706.6941432442177,722.2418560186353,712.0024952631435]\n",
      "[708.4945288120575,718.5096677210147,713.7966663223359]\n",
      "[710.5303556847771,719.7796506352853,715.8318461953942]\n",
      "[716.8287735086865,732.3764862831041,722.1371255276123]\n",
      "[718.6291590765263,728.6442979854835,723.9312965868047]\n",
      "[720.6649859492459,729.9142808997541,725.966476459863]\n",
      "[726.9634037731553,742.5111165475729,732.2717557920811]\n",
      "[728.7637893409951,738.7789282499523,734.0659268512735]\n",
      "[730.7996162137147,740.0489111642229,736.1011067243318]\n",
      "[737.0980340376241,752.6457468120417,742.4063860565499]\n",
      "[738.8984196054639,748.9135585144211,744.2005571157423]\n",
      "[740.9342464781835,750.1835414286917,746.2357369888006]\n",
      "[747.2326643020929,762.7803770765105,752.5410163210187]\n",
      "[749.0330498699327,759.0481887788899,754.3351873802111]\n",
      "[751.0688767426523,760.3181716931605,756.3703672532694]\n",
      "[757.3672945665617,772.9150073409793,762.6756465854875]\n",
      "[759.1676801344015,769.1828190433587,764.4698176446799]\n",
      "[761.2035070071211,770.4528019576293,766.5049975177382]\n",
      "[767.5019248310305,783.0496376054481,772.8102768499563]\n",
      "[769.3023103988703,779.3174493078275,774.6044479091487]\n",
      "[771.3381372715899,780.5874322220981,776.639627782207]\n",
      "[777.6365550954993,793.1842678699169,782.9449071144251]\n",
      "[779.4369406633391,789.4520795722963,784.7390781736175]\n",
      "[781.4727675360587,790.7220624865669,786.7742580466758]\n",
      "[787.7711853599681,803.3188981343857,793.0795373788939]\n"
     ]
    }
   ],
   "source": [
    "Taypos(X0, L, Τ, V,tf,ϵ)"
   ]
  },
  {
   "cell_type": "code",
   "execution_count": null,
   "metadata": {
    "collapsed": true
   },
   "outputs": [],
   "source": []
  }
 ],
 "metadata": {
  "kernelspec": {
   "display_name": "Julia 0.4.1",
   "language": "julia",
   "name": "julia-0.4"
  },
  "language_info": {
   "file_extension": ".jl",
   "mimetype": "application/julia",
   "name": "julia",
   "version": "0.4.1"
  }
 },
 "nbformat": 4,
 "nbformat_minor": 0
}
