{
 "cells": [
  {
   "cell_type": "markdown",
   "metadata": {},
   "source": [
    "# Simulación del tráfico en un carril."
   ]
  },
  {
   "cell_type": "markdown",
   "metadata": {},
   "source": [
    "Primero se simulará para dos carros. La ecuación que simulará la velocidad de los vehículos es el mínimo entre\n",
    "\n",
    "$$\\dot{x_i} = \\frac{1}{T_i}(x_{i-1}-x_i -\\frac{l_i + l_{i-1}}{2}) \n",
    "$$ \n",
    "\n",
    "y\n",
    "\n",
    "$$ \\dot{x_i} = v_{max_{i}} $$"
   ]
  },
  {
   "cell_type": "code",
   "execution_count": 16,
   "metadata": {
    "collapsed": false
   },
   "outputs": [],
   "source": [
    "#Llamando al paquete de Taylor\n",
    "\n",
    "using TaylorSeries"
   ]
  },
  {
   "cell_type": "code",
   "execution_count": 17,
   "metadata": {
    "collapsed": false
   },
   "outputs": [],
   "source": [
    "#Definiendo parámetros. Sólo para fijar ideas.\n",
    "\n",
    "x1_0 = 0.0;\n",
    "x2_0 = pi;\n",
    "l1 = pi/16;\n",
    "l2 = l1;\n",
    "V1 = pi/4;\n",
    "V2 = pi/2;\n",
    "\n",
    "per1=1;\n",
    "per2=1;\n",
    "\n"
   ]
  },
  {
   "cell_type": "markdown",
   "metadata": {},
   "source": [
    "A continuación se escribe la función `modulo2pi` que encuentra la diferencia entre dos ángulos en módulo 2$\\pi$"
   ]
  },
  {
   "cell_type": "code",
   "execution_count": 18,
   "metadata": {
    "collapsed": false
   },
   "outputs": [
    {
     "data": {
      "text/plain": [
       "modulo2pi (generic function with 1 method)"
      ]
     },
     "execution_count": 18,
     "metadata": {},
     "output_type": "execute_result"
    }
   ],
   "source": [
    "function modulo2pi(α,β)\n",
    "    #Esta función calcula la diferencia entre dos ángulos y la devuelve \n",
    "    #módulo 2π.\n",
    "    δ=α-β \n",
    "    \n",
    "    if δ<0\n",
    "        δ = 2π + δ\n",
    "    else \n",
    "        δ = δ \n",
    "    end\n",
    "    \n",
    "    return δ\n",
    "end"
   ]
  },
  {
   "cell_type": "code",
   "execution_count": 45,
   "metadata": {
    "collapsed": false
   },
   "outputs": [
    {
     "data": {
      "text/plain": [
       "fmax (generic function with 1 method)"
      ]
     },
     "execution_count": 45,
     "metadata": {},
     "output_type": "execute_result"
    }
   ],
   "source": [
    "#La siguiente función calcula los coeficientes de la velocidad de seguridad\n",
    "\n",
    "function fSec{R<:Real }(T::R, car::TaylorSeries.Taylor1{R}, frontcar::TaylorSeries.Taylor1{R} , lfcar::R, Vmax::R)\n",
    "    k = max(car.order, frontcar.order)\n",
    "    \n",
    "    vel = taylor1_variable(Float64, k)\n",
    "     \n",
    "    vel.coeffs[1] = 1/T * modulo2pi(frontcar.coeffs[1]-lfcar,car.coeffs[1])\n",
    "    \n",
    "    for i = 2 : k+1\n",
    "        vel.coeffs[i] = 1/T * (frontcar.coeffs[i]-car.coeffs[i])\n",
    "    end\n",
    "        \n",
    "    \n",
    "    return vel\n",
    "end\n",
    "\n",
    "function fmax{R<:Real}(T::R, car::TaylorSeries.Taylor1{R}, frontcar::TaylorSeries.Taylor1{R} , lfcar::R, Vmax::R)\n",
    "    vel = taylor1_variable(Float64,10)\n",
    "    \n",
    "    vel.coeffs[1] = Vmax\n",
    "    vel.coeffs[2] = 0\n",
    "    return vel\n",
    "end\n"
   ]
  },
  {
   "cell_type": "markdown",
   "metadata": {},
   "source": [
    "Ahora se definen un par de variables tipo `Taylor1` que tendrá información de las series de taylor de las funciones $x_1 (t)$ y $x_2 (t)$."
   ]
  },
  {
   "cell_type": "markdown",
   "metadata": {
    "collapsed": true
   },
   "source": [
    "Ahora, a encontrar los siguientes coeficientes. Usando que $$ x_{n+1} = f_n /(n+1) $$"
   ]
  },
  {
   "cell_type": "markdown",
   "metadata": {
    "collapsed": false
   },
   "source": [
    "Es momento de avanzar. definamos la épsilon y la función para calcular el siguiente paso.\n",
    "\n",
    "Sabemos que el paso siguiente está dado por $ h = \\min[\\, (\\epsilon/x^{[p-1]})^{1/(p-1)}, (\\epsilon/x^{[p]})^{1/p}\\, ], $"
   ]
  },
  {
   "cell_type": "code",
   "execution_count": 42,
   "metadata": {
    "collapsed": false
   },
   "outputs": [
    {
     "data": {
      "text/plain": [
       "stepsize (generic function with 1 method)"
      ]
     },
     "execution_count": 42,
     "metadata": {},
     "output_type": "execute_result"
    }
   ],
   "source": [
    "function stepsize{T<:Real}(x::TaylorSeries.Taylor1{T}, epsilon::Float64)\n",
    "    ord = x.order\n",
    "    h = Inf\n",
    "    \n",
    "    if ord > 1\n",
    "        \n",
    "        for k in [ord-1, ord]\n",
    "            kinv = 1.0/k\n",
    "            aux = abs( x.coeffs[k+1] )\n",
    "            h = min(h, (epsilon/aux)^kinv)\n",
    "        end\n",
    "    \n",
    "    elseif ord == 1\n",
    "        \n",
    "        \n",
    "        \n",
    "        aux = abs( x.coeffs[2])\n",
    "        \n",
    "        h = min(h, (epsilon/aux))\n",
    "        \n",
    "    end\n",
    "        \n",
    "    \n",
    "    \n",
    "    return h\n",
    "end"
   ]
  },
  {
   "cell_type": "markdown",
   "metadata": {
    "collapsed": true
   },
   "source": [
    "Necesitamos una función que sólo con las condiciones iniciales (y otros parámetros) , calcule las series de dos coches."
   ]
  },
  {
   "cell_type": "code",
   "execution_count": 21,
   "metadata": {
    "collapsed": false,
    "slideshow": {
     "slide_type": "notes"
    }
   },
   "outputs": [
    {
     "data": {
      "text/plain": [
       "series (generic function with 1 method)"
      ]
     },
     "execution_count": 21,
     "metadata": {},
     "output_type": "execute_result"
    }
   ],
   "source": [
    "function series(x10,x20,T1,T2,L1,L2,V1,V2)\n",
    "   \n",
    "    \n",
    "    vel1 = 1/T1 * modulo2pi(x20-L2,x10)\n",
    "    \n",
    "    vel2 = 1/T2 * modulo2pi(x10-L1,x20)\n",
    "    #Velocidades de seguridad.\n",
    "    \n",
    "    if vel1 < V1 && vel2 < V2\n",
    "    \n",
    "        x1 = taylor1_variable(Float64,20)\n",
    "        x2 = taylor1_variable(Float64,20)\n",
    "    \n",
    "        x1.coeffs[1] = x10\n",
    "        x1.coeffs[2] = 0\n",
    "    \n",
    "        x2.coeffs[1] = x20\n",
    "        x2.coeffs[2] = 0\n",
    "        \n",
    "        for i = 2:20\n",
    "            x1.coeffs[i] = velocidad_sec(T1,x1,x2,L2).coeffs[i-1]/i\n",
    "            x2.coeffs[i] = velocidad_sec(T2,x2,x1,L1).coeffs[i-1]/i\n",
    "        end\n",
    "    \n",
    "    \n",
    "    elseif vel1 < V1 && vel2 > V2\n",
    "        \n",
    "        x1 = taylor1_variable(Float64,20)\n",
    "        x2 = taylor1_variable(Float64,1)\n",
    "        \n",
    "        x1.coeffs[1] = x10\n",
    "        x1.coeffs[2] = 0\n",
    "        \n",
    "        x2.coeffs[1] = x20\n",
    "        \n",
    "        \n",
    "        x2.coeffs[2] = V2\n",
    "        for i = 2:20\n",
    "            x1.coeffs[i] = velocidad_sec(T1,x1,x2,L2).coeffs[i-1]/i\n",
    "        end\n",
    "        \n",
    "    \n",
    "    \n",
    "\n",
    "    \n",
    "    elseif vel1 > V1 && vel2 < V2\n",
    "        \n",
    "        x1 = taylor1_variable(Float64,1)\n",
    "        x2 = taylor1_variable(Float64,20)\n",
    "        \n",
    "        x1.coeffs[1] = x10\n",
    "        x1.coeffs[2] = V1\n",
    "        \n",
    "        x2.coeffs[1] = x20\n",
    "        x2.coeffs[0] = 0\n",
    "        \n",
    "        for i = 2:20\n",
    "            x2.coeffs[i] = velocidad_sec(T2,x2,x1,L1).coeffs[i-1]/i\n",
    "        end\n",
    "        \n",
    "        \n",
    "    \n",
    "    \n",
    "    elseif vel1 > V1 && vel2 > V2\n",
    "        x1 = taylor1_variable(Float64,1)\n",
    "        x2 = taylor1_variable(Float64,1)\n",
    "        \n",
    "        x1.coeffs[1] = x10\n",
    "        x1.coeffs[2] = V1\n",
    "        \n",
    "        x2.coeffs[1] = x20\n",
    "        x2.coeffs[2] = V2\n",
    "        \n",
    "    end\n",
    "    \n",
    "    return x1, x2\n",
    "    \n",
    "end\n",
    "    \n",
    "        \n",
    "    \n",
    "    \n",
    "    \n",
    "    "
   ]
  },
  {
   "cell_type": "code",
   "execution_count": 35,
   "metadata": {
    "collapsed": false
   },
   "outputs": [
    {
     "data": {
      "text/plain": [
       "TaylorSeries.Taylor1{Float64}"
      ]
     },
     "execution_count": 35,
     "metadata": {},
     "output_type": "execute_result"
    }
   ],
   "source": [
    " x2 = taylor1_variable(Float64,1)\n",
    "typeof(x2)"
   ]
  },
  {
   "cell_type": "code",
   "execution_count": 22,
   "metadata": {
    "collapsed": false
   },
   "outputs": [],
   "source": [
    "\n",
    "#t1 y t2 son vectores donde se guardarán los tiempos donde se evalúa la función.\n",
    "t1 = Float64[];\n",
    "push!(t1,0);\n",
    "\n",
    "#x1 y x2 son vectores donde se guardarán los valores de las funciones x1(t) y x2(t)\n",
    "\n",
    "x1 = Float64[];\n",
    "push!(x1,x1_0);\n",
    "x2 = Float64[];\n",
    "push!(x2,x2_0);\n",
    "\n",
    "\n",
    "\n",
    "\n",
    "for n in 2:1000\n",
    "    \n",
    "    x1Taylor = series(x1_0,x2_0,per1,per2,l1,l2,V1,V2)[1]\n",
    "    x2Taylor = series(x1_0,x2_0,per1,per2,l1,l2,V1,V2)[2]\n",
    "    \n",
    "    h1 = stepsize(x1Taylor,1.0e-5)\n",
    "    \n",
    "    h2 = stepsize(x2Taylor,1.0e-5)\n",
    "    h = min(h1,h2)\n",
    "    \n",
    "    \n",
    "    \n",
    "    push!(t1,t1[n-1] + h)\n",
    "    \n",
    "    x1_0 = evaluate(x1Taylor,h)\n",
    "    push!(x1,x1_0)\n",
    "    x2_0 = evaluate(x2Taylor,h)\n",
    "    push!(x2,x2_0)\n",
    "    \n",
    "end\n",
    "    \n",
    "    \n",
    "    \n",
    "    \n",
    "    "
   ]
  },
  {
   "cell_type": "code",
   "execution_count": 23,
   "metadata": {
    "collapsed": false
   },
   "outputs": [
    {
     "data": {
      "text/plain": [
       "1000-element Array{Float64,1}:\n",
       " 0.0     \n",
       " 5.0e-6  \n",
       " 1.0e-5  \n",
       " 1.5e-5  \n",
       " 2.0e-5  \n",
       " 2.5e-5  \n",
       " 3.0e-5  \n",
       " 3.5e-5  \n",
       " 4.0e-5  \n",
       " 4.5e-5  \n",
       " 5.0e-5  \n",
       " 5.5e-5  \n",
       " 6.0e-5  \n",
       " ⋮       \n",
       " 0.00494 \n",
       " 0.004945\n",
       " 0.00495 \n",
       " 0.004955\n",
       " 0.00496 \n",
       " 0.004965\n",
       " 0.00497 \n",
       " 0.004975\n",
       " 0.00498 \n",
       " 0.004985\n",
       " 0.00499 \n",
       " 0.004995"
      ]
     },
     "execution_count": 23,
     "metadata": {},
     "output_type": "execute_result"
    }
   ],
   "source": [
    "x1"
   ]
  },
  {
   "cell_type": "code",
   "execution_count": 24,
   "metadata": {
    "collapsed": false
   },
   "outputs": [
    {
     "ename": "LoadError",
     "evalue": "LoadError: MethodError: `stepsize` has no method matching stepsize(::Array{Float64,1}, ::Float64)\nClosest candidates are:\n  stepsize{T<:Real}(!Matched::TaylorSeries.Taylor1{T<:Real}, ::Float64)\nwhile loading In[24], in expression starting on line 1",
     "output_type": "error",
     "traceback": [
      "LoadError: MethodError: `stepsize` has no method matching stepsize(::Array{Float64,1}, ::Float64)\nClosest candidates are:\n  stepsize{T<:Real}(!Matched::TaylorSeries.Taylor1{T<:Real}, ::Float64)\nwhile loading In[24], in expression starting on line 1",
      ""
     ]
    }
   ],
   "source": [
    "h = stepsize(x2,1.0e-20)"
   ]
  },
  {
   "cell_type": "code",
   "execution_count": 44,
   "metadata": {
    "collapsed": false
   },
   "outputs": [
    {
     "data": {
      "text/plain": [
       "Array{Float64,1}"
      ]
     },
     "execution_count": 44,
     "metadata": {},
     "output_type": "execute_result"
    }
   ],
   "source": [
    "t1\n",
    "typeof(t1)"
   ]
  },
  {
   "cell_type": "code",
   "execution_count": 26,
   "metadata": {
    "collapsed": false
   },
   "outputs": [
    {
     "data": {
      "text/plain": [
       "speed (generic function with 1 method)"
      ]
     },
     "execution_count": 26,
     "metadata": {},
     "output_type": "execute_result"
    }
   ],
   "source": [
    "function speed(intPos::Array{Float64,1}, carL::Array{Float64,1}, carτ::Array{Float64,1}, carV::Array{Float64,1})\n",
    "    #Esta función decide la función que debe generar la serie de cada carro.\n",
    "    \n",
    "    n = length(intPos)\n",
    "    F = Function[]\n",
    "   \n",
    "    #F será un arreglo de funciones, una función para cada carro.\n",
    "    \n",
    "    for j in 1:n-1\n",
    "        \n",
    "        a = (modulo2pi(intPos[j+1],intPos[j])-carL[j+1])/carτ[j] #Checa la distancia al coche de enfrente.\n",
    "        b = carV[j]\n",
    "        \n",
    "        if a < b #Compara las velocidades y decide que función aplicar al coche j\n",
    "            push!(F,fSec)\n",
    "        else\n",
    "            push!(F,fmax)\n",
    "        end\n",
    "        \n",
    "    end\n",
    "    #El coche que está delante del enésimo es el coch 1. Se debe cerrar la cadena.\n",
    "    \n",
    "    a = (modulo2pi(intPos[1],intPos[n])-carL[1])/carτ[n]\n",
    "    b = carV[n]\n",
    "    \n",
    "    if a < b\n",
    "        push!(F,fSec)\n",
    "    else\n",
    "        push!(F,fmax)\n",
    "    end\n",
    "    \n",
    "    return F\n",
    "    \n",
    "end"
   ]
  },
  {
   "cell_type": "code",
   "execution_count": 37,
   "metadata": {
    "collapsed": false
   },
   "outputs": [
    {
     "data": {
      "text/plain": [
       "3-element Array{Float64,1}:\n",
       " 0.785398\n",
       " 1.5708  \n",
       " 2.35619 "
      ]
     },
     "execution_count": 37,
     "metadata": {},
     "output_type": "execute_result"
    }
   ],
   "source": [
    "X0 = [0,π,7*π/4];\n",
    "L = π/16 * [1,1,1];\n",
    "Τ = [1.0,1.0,1.0];\n",
    "V = [π/4, π/2, 3*π/4]"
   ]
  },
  {
   "cell_type": "code",
   "execution_count": 28,
   "metadata": {
    "collapsed": false
   },
   "outputs": [
    {
     "data": {
      "text/plain": [
       "3-element Array{Function,1}:\n",
       " fmax\n",
       " fmax\n",
       " fSec"
      ]
     },
     "execution_count": 28,
     "metadata": {},
     "output_type": "execute_result"
    }
   ],
   "source": [
    "F = speed(X0, L, Τ, V)"
   ]
  },
  {
   "cell_type": "code",
   "execution_count": 47,
   "metadata": {
    "collapsed": false
   },
   "outputs": [
    {
     "data": {
      "text/plain": [
       " 0.7853981633974483 + 𝒪(t¹¹)"
      ]
     },
     "execution_count": 47,
     "metadata": {},
     "output_type": "execute_result"
    }
   ],
   "source": [
    "F[1](1.,x2,x2,1.,π/4)"
   ]
  },
  {
   "cell_type": "code",
   "execution_count": 50,
   "metadata": {
    "collapsed": false
   },
   "outputs": [
    {
     "data": {
      "text/plain": [
       "Taylorcars (generic function with 1 method)"
      ]
     },
     "execution_count": 50,
     "metadata": {},
     "output_type": "execute_result"
    }
   ],
   "source": [
    "function Taylorcars(initPos::Array{Float64,1}, carL::Array{Float64,1}, carτ::Array{Float64,1}, carV::Array{Float64,1})\n",
    "    \n",
    "    n = length(intPos)\n",
    "    \n",
    "    Xcars = TaylorSeries.Taylor1{Float64}[]\n",
    "    \n",
    "    #El siguiente cilco llena el arreglo Xcars con taylors que sólo tienen el coeficiente de orden cero.\n",
    "    for i in 1:n\n",
    "        x = taylor1_variable(Float64,10)\n",
    "        x.coeffs[1] = initPos[i]\n",
    "        x.coeffs[2] = 0\n",
    "        \n",
    "        push!(Xcars,x)\n",
    "    end\n",
    "    \n",
    "    #Se aplica la función speed para conocer la velocidad que tendrá cada carro\n",
    "    F = speed(initPos::Array{Float64,1}, carL::Array{Float64,1}, carτ::Array{Float64,1}, carV::Array{Float64,1})\n",
    "    \n",
    "    #Una vez conociendo la velocidad se puede proseguir a calcular coeficientes de las series de taylor de órdenes mayores\n",
    "    for i in 1:n-1\n",
    "        for j in 2:11\n",
    "            #Solo se aplica la fórmula de recurrencia.\n",
    "            Xcars[i].coeffs[j] = F[i](carτ[i], Xcars[i], Xcars[i+1] , carL[i+1] , carV[i] ).coeffs[j-1]/(j-1) #se divide entre j-1 para corregir el desfase de los Taylor1 en los coeffs.\n",
    "        end\n",
    "    end\n",
    "    \n",
    "    #Al igual que con la velocidad, el último coche debe cerrar el ciclo. Tiene enfrente al coche 1.\n",
    "    for j in 2:11\n",
    "            \n",
    "        Xcars[n].coeffs[j] = F[n](carτ[n], Xcars[n], Xcars[1] , carL[1] , carV[n] ).coeffs[j-1]/(j-1) #se divide entre j-1 para corregir el desfase de los Taylor1 en los coeffs.\n",
    "    end\n",
    "    \n",
    "    return Xcars\n",
    "    \n",
    "end\n",
    "    \n",
    "    "
   ]
  },
  {
   "cell_type": "code",
   "execution_count": 59,
   "metadata": {
    "collapsed": false
   },
   "outputs": [
    {
     "data": {
      "text/plain": [
       "3-element Array{TaylorSeries.Taylor1{Float64},1}:\n",
       "                                                                                                                                                                                                                                                               0.7853981633974483 t + 𝒪(t¹¹)\n",
       "                                                                                                                                                                                                                                           3.141592653589793 + 1.5707963267948966 t + 𝒪(t¹¹)\n",
       "  5.497787143782138 + 0.589048622548086 t + 0.09817477042468115 t² - 0.03272492347489372 t³ + 0.00818123086872343 t⁴ - 0.0016362461737446858 t⁵ + 0.0002727076956241143 t⁶ - 3.895824223201633e-5 t⁷ + 4.869780279002041e-6 t⁸ - 5.410866976668934e-7 t⁹ + 5.410866976668934e-8 t¹⁰ + 𝒪(t¹¹)"
      ]
     },
     "execution_count": 59,
     "metadata": {},
     "output_type": "execute_result"
    }
   ],
   "source": [
    "Taylorcars(X0, L, Τ, V)"
   ]
  },
  {
   "cell_type": "code",
   "execution_count": null,
   "metadata": {
    "collapsed": true
   },
   "outputs": [],
   "source": []
  }
 ],
 "metadata": {
  "kernelspec": {
   "display_name": "Julia 0.4.1",
   "language": "julia",
   "name": "julia-0.4"
  },
  "language_info": {
   "file_extension": ".jl",
   "mimetype": "application/julia",
   "name": "julia",
   "version": "0.4.1"
  }
 },
 "nbformat": 4,
 "nbformat_minor": 0
}
